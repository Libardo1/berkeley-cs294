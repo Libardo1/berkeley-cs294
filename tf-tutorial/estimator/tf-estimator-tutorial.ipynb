{
 "cells": [
  {
   "cell_type": "code",
   "execution_count": 1,
   "metadata": {
    "collapsed": true
   },
   "outputs": [],
   "source": [
    "from __future__ import absolute_import\n",
    "from __future__ import division\n",
    "from __future__ import print_function\n",
    "\n",
    "import os\n",
    "import urllib\n",
    "\n",
    "import tensorflow as tf\n",
    "tf.logging.set_verbosity(tf.logging.INFO)\n",
    "import numpy as np\n",
    "\n",
    "import matplotlib.pyplot as plt\n",
    "\n",
    "IRIS_TRAINING = \"iris_training.csv\"\n",
    "IRIS_TRAINING_URL = \"http://download.tensorflow.org/data/iris_training.csv\"\n",
    "\n",
    "IRIS_TEST = \"iris_test.csv\"\n",
    "IRIS_TEST_URL = \"http://download.tensorflow.org/data/iris_test.csv\"\n",
    "\n",
    "%matplotlib inline"
   ]
  },
  {
   "cell_type": "code",
   "execution_count": 2,
   "metadata": {
    "collapsed": true
   },
   "outputs": [],
   "source": [
    "# Load datasets.\n",
    "training_set = tf.contrib.learn.datasets.base.load_csv_with_header(\n",
    "    filename=IRIS_TRAINING,\n",
    "    target_dtype=np.int,\n",
    "    features_dtype=np.float32)\n",
    "\n",
    "test_set = tf.contrib.learn.datasets.base.load_csv_with_header(\n",
    "    filename=IRIS_TEST,\n",
    "    target_dtype=np.int,\n",
    "    features_dtype=np.float32)"
   ]
  },
  {
   "cell_type": "code",
   "execution_count": 3,
   "metadata": {},
   "outputs": [
    {
     "data": {
      "text/plain": [
       "(120, 4)"
      ]
     },
     "execution_count": 3,
     "metadata": {},
     "output_type": "execute_result"
    }
   ],
   "source": [
    "training_set.data.shape"
   ]
  },
  {
   "cell_type": "code",
   "execution_count": 4,
   "metadata": {},
   "outputs": [
    {
     "name": "stdout",
     "output_type": "stream",
     "text": [
      "INFO:tensorflow:Using default config.\n",
      "INFO:tensorflow:Using config: {'_save_checkpoints_steps': None, '_keep_checkpoint_every_n_hours': 10000, '_keep_checkpoint_max': 5, '_save_checkpoints_secs': 600, '_save_summary_steps': 100, '_model_dir': '/tmp/iris_model', '_tf_random_seed': 1, '_log_step_count_steps': 100, '_session_config': None}\n"
     ]
    }
   ],
   "source": [
    "# Specify that all features have real-value data\n",
    "feature_columns = [tf.feature_column.numeric_column(\"x\", shape=[4])]\n",
    "\n",
    "# Build 3 layer DNN with 10, 20, 10 units respectively.\n",
    "classifier = tf.estimator.DNNClassifier(feature_columns=feature_columns,\n",
    "                                        hidden_units=[10, 20, 10],\n",
    "                                        n_classes=3,\n",
    "                                        model_dir=\"/tmp/iris_model\")"
   ]
  },
  {
   "cell_type": "code",
   "execution_count": 5,
   "metadata": {
    "collapsed": true
   },
   "outputs": [],
   "source": [
    "tf.feature_column.numeric_column?"
   ]
  },
  {
   "cell_type": "code",
   "execution_count": 6,
   "metadata": {},
   "outputs": [
    {
     "data": {
      "text/plain": [
       "[_NumericColumn(key='x', shape=(4,), default_value=None, dtype=tf.float32, normalizer_fn=None)]"
      ]
     },
     "execution_count": 6,
     "metadata": {},
     "output_type": "execute_result"
    }
   ],
   "source": [
    "feature_columns"
   ]
  },
  {
   "cell_type": "code",
   "execution_count": 7,
   "metadata": {
    "collapsed": true
   },
   "outputs": [],
   "source": [
    "# tf.estimator.DNNClassifier?"
   ]
  },
  {
   "cell_type": "code",
   "execution_count": 8,
   "metadata": {
    "collapsed": true
   },
   "outputs": [],
   "source": [
    "# Define the training inputs\n",
    "train_input_fn = tf.estimator.inputs.numpy_input_fn(\n",
    "    x={\"x\": np.array(training_set.data)},\n",
    "    y=np.array(training_set.target),\n",
    "    num_epochs=None,\n",
    "    shuffle=True)"
   ]
  },
  {
   "cell_type": "code",
   "execution_count": 9,
   "metadata": {},
   "outputs": [
    {
     "name": "stdout",
     "output_type": "stream",
     "text": [
      "INFO:tensorflow:Create CheckpointSaverHook.\n",
      "INFO:tensorflow:Restoring parameters from /tmp/iris_model/model.ckpt-4000\n",
      "INFO:tensorflow:Saving checkpoints for 4001 into /tmp/iris_model/model.ckpt.\n",
      "INFO:tensorflow:step = 4001, loss = 3.63822\n",
      "INFO:tensorflow:global_step/sec: 754.432\n",
      "INFO:tensorflow:step = 4101, loss = 3.1336 (0.135 sec)\n",
      "INFO:tensorflow:global_step/sec: 791.916\n",
      "INFO:tensorflow:step = 4201, loss = 7.32781 (0.126 sec)\n",
      "INFO:tensorflow:global_step/sec: 776.808\n",
      "INFO:tensorflow:step = 4301, loss = 3.6719 (0.129 sec)\n",
      "INFO:tensorflow:global_step/sec: 770.387\n",
      "INFO:tensorflow:step = 4401, loss = 9.65957 (0.130 sec)\n",
      "INFO:tensorflow:global_step/sec: 752.043\n",
      "INFO:tensorflow:step = 4501, loss = 8.03901 (0.133 sec)\n",
      "INFO:tensorflow:global_step/sec: 742.865\n",
      "INFO:tensorflow:step = 4601, loss = 5.72575 (0.135 sec)\n",
      "INFO:tensorflow:global_step/sec: 777.273\n",
      "INFO:tensorflow:step = 4701, loss = 4.12203 (0.129 sec)\n",
      "INFO:tensorflow:global_step/sec: 747.725\n",
      "INFO:tensorflow:step = 4801, loss = 1.87848 (0.134 sec)\n",
      "INFO:tensorflow:global_step/sec: 767.189\n",
      "INFO:tensorflow:step = 4901, loss = 2.27259 (0.130 sec)\n",
      "INFO:tensorflow:global_step/sec: 774.347\n",
      "INFO:tensorflow:step = 5001, loss = 6.92512 (0.129 sec)\n",
      "INFO:tensorflow:global_step/sec: 752.163\n",
      "INFO:tensorflow:step = 5101, loss = 3.67445 (0.132 sec)\n",
      "INFO:tensorflow:global_step/sec: 767.023\n",
      "INFO:tensorflow:step = 5201, loss = 4.56311 (0.130 sec)\n",
      "INFO:tensorflow:global_step/sec: 774.365\n",
      "INFO:tensorflow:step = 5301, loss = 3.31867 (0.129 sec)\n",
      "INFO:tensorflow:global_step/sec: 768.345\n",
      "INFO:tensorflow:step = 5401, loss = 5.88083 (0.130 sec)\n",
      "INFO:tensorflow:global_step/sec: 763.038\n",
      "INFO:tensorflow:step = 5501, loss = 5.51644 (0.131 sec)\n",
      "INFO:tensorflow:global_step/sec: 716.646\n",
      "INFO:tensorflow:step = 5601, loss = 8.38613 (0.140 sec)\n",
      "INFO:tensorflow:global_step/sec: 695.986\n",
      "INFO:tensorflow:step = 5701, loss = 4.23892 (0.143 sec)\n",
      "INFO:tensorflow:global_step/sec: 693.814\n",
      "INFO:tensorflow:step = 5801, loss = 7.48715 (0.145 sec)\n",
      "INFO:tensorflow:global_step/sec: 744.043\n",
      "INFO:tensorflow:step = 5901, loss = 5.19075 (0.134 sec)\n",
      "INFO:tensorflow:Saving checkpoints for 6000 into /tmp/iris_model/model.ckpt.\n",
      "INFO:tensorflow:Loss for final step: 1.51026.\n"
     ]
    },
    {
     "data": {
      "text/plain": [
       "<tensorflow.python.estimator.canned.dnn.DNNClassifier at 0x11bf9eac8>"
      ]
     },
     "execution_count": 9,
     "metadata": {},
     "output_type": "execute_result"
    }
   ],
   "source": [
    "# Train model.\n",
    "classifier.train(input_fn=train_input_fn, steps=2000)"
   ]
  },
  {
   "cell_type": "code",
   "execution_count": 7,
   "metadata": {},
   "outputs": [
    {
     "name": "stdout",
     "output_type": "stream",
     "text": [
      "INFO:tensorflow:Starting evaluation at 2017-10-20-03:21:42\n",
      "INFO:tensorflow:Restoring parameters from /tmp/iris_model/model.ckpt-2000\n",
      "INFO:tensorflow:Finished evaluation at 2017-10-20-03:21:43\n",
      "INFO:tensorflow:Saving dict for global step 2000: accuracy = 0.966667, average_loss = 0.0549388, global_step = 2000, loss = 1.64816\n",
      "\n",
      "Test Accuracy: 0.966667\n",
      "\n"
     ]
    }
   ],
   "source": [
    "# Define the test inputs\n",
    "test_input_fn = tf.estimator.inputs.numpy_input_fn(\n",
    "    x={\"x\": np.array(test_set.data)},\n",
    "    y=np.array(test_set.target),\n",
    "    num_epochs=1,\n",
    "    shuffle=False)\n",
    "\n",
    "# Evaluate accuracy.\n",
    "accuracy_score = classifier.evaluate(input_fn=test_input_fn)[\"accuracy\"]\n",
    "\n",
    "print(\"\\nTest Accuracy: {0:f}\\n\".format(accuracy_score))"
   ]
  },
  {
   "cell_type": "code",
   "execution_count": 9,
   "metadata": {},
   "outputs": [
    {
     "name": "stdout",
     "output_type": "stream",
     "text": [
      "INFO:tensorflow:Restoring parameters from /tmp/iris_model/model.ckpt-2000\n",
      "New Samples, Class Predictions:    [array([b'1'], dtype=object), array([b'2'], dtype=object)]\n",
      "\n"
     ]
    }
   ],
   "source": [
    "# Classify two new flower samples.\n",
    "new_samples = np.array(\n",
    "    [[6.4, 3.2, 4.5, 1.5],\n",
    "     [5.8, 3.1, 5.0, 1.7]], dtype=np.float32)\n",
    "predict_input_fn = tf.estimator.inputs.numpy_input_fn(\n",
    "    x={\"x\": new_samples},\n",
    "    num_epochs=1,\n",
    "    shuffle=False)\n",
    "\n",
    "predictions = list(classifier.predict(input_fn=predict_input_fn))\n",
    "predicted_classes = [p[\"classes\"] for p in predictions]\n",
    "\n",
    "print(\n",
    "    \"New Samples, Class Predictions:    {}\\n\"\n",
    "    .format(predicted_classes))"
   ]
  },
  {
   "cell_type": "code",
   "execution_count": 10,
   "metadata": {},
   "outputs": [
    {
     "data": {
      "text/plain": [
       "[{'class_ids': array([1]),\n",
       "  'classes': array([b'1'], dtype=object),\n",
       "  'logits': array([-5.3435173 ,  4.682055  , -4.30464888], dtype=float32),\n",
       "  'probabilities': array([  4.42462006e-05,   9.99830723e-01,   1.25040460e-04], dtype=float32)},\n",
       " {'class_ids': array([2]),\n",
       "  'classes': array([b'2'], dtype=object),\n",
       "  'logits': array([-7.69936657,  0.39931303,  2.00755262], dtype=float32),\n",
       "  'probabilities': array([  5.07047589e-05,   1.66824698e-01,   8.33124578e-01], dtype=float32)}]"
      ]
     },
     "execution_count": 10,
     "metadata": {},
     "output_type": "execute_result"
    }
   ],
   "source": [
    "predictions"
   ]
  },
  {
   "cell_type": "code",
   "execution_count": null,
   "metadata": {
    "collapsed": true
   },
   "outputs": [],
   "source": []
  },
  {
   "cell_type": "code",
   "execution_count": null,
   "metadata": {
    "collapsed": true
   },
   "outputs": [],
   "source": []
  }
 ],
 "metadata": {
  "anaconda-cloud": {},
  "kernelspec": {
   "display_name": "Python 3",
   "language": "python",
   "name": "python3"
  },
  "language_info": {
   "codemirror_mode": {
    "name": "ipython",
    "version": 3
   },
   "file_extension": ".py",
   "mimetype": "text/x-python",
   "name": "python",
   "nbconvert_exporter": "python",
   "pygments_lexer": "ipython3",
   "version": "3.5.4"
  }
 },
 "nbformat": 4,
 "nbformat_minor": 2
}
