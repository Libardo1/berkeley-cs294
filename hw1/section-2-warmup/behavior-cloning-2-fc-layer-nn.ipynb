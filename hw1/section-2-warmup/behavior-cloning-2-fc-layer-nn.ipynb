{
 "cells": [
  {
   "cell_type": "code",
   "execution_count": 1,
   "metadata": {
    "collapsed": true
   },
   "outputs": [],
   "source": [
    "import pickle\n",
    "\n",
    "import numpy as np\n",
    "import matplotlib.pyplot as plt\n",
    "import tensorflow as tf\n",
    "\n",
    "import gym\n",
    "\n",
    "%matplotlib inline"
   ]
  },
  {
   "cell_type": "code",
   "execution_count": 2,
   "metadata": {
    "collapsed": true
   },
   "outputs": [],
   "source": [
    "sess = tf.InteractiveSession()"
   ]
  },
  {
   "cell_type": "code",
   "execution_count": 3,
   "metadata": {
    "collapsed": true
   },
   "outputs": [],
   "source": [
    "with open('./train_test.pkl', 'rb') as inf:\n",
    "    X_tv, y_tv, X_test, y_test = pickle.load(inf)"
   ]
  },
  {
   "cell_type": "code",
   "execution_count": 4,
   "metadata": {
    "collapsed": true
   },
   "outputs": [],
   "source": [
    "def weight_variable(shape):\n",
    "    initial = tf.truncated_normal(shape, stddev=0.1)\n",
    "    return tf.Variable(initial)\n",
    "\n",
    "\n",
    "def bias_variable(shape):\n",
    "    initial = tf.constant(0.1, shape=shape)\n",
    "    return tf.Variable(initial)"
   ]
  },
  {
   "cell_type": "code",
   "execution_count": 5,
   "metadata": {
    "scrolled": true
   },
   "outputs": [
    {
     "data": {
      "text/plain": [
       "(16008, 3)"
      ]
     },
     "execution_count": 5,
     "metadata": {},
     "output_type": "execute_result"
    }
   ],
   "source": [
    "y_tv.shape"
   ]
  },
  {
   "cell_type": "code",
   "execution_count": 6,
   "metadata": {},
   "outputs": [
    {
     "data": {
      "text/plain": [
       "(4002, 3)"
      ]
     },
     "execution_count": 6,
     "metadata": {},
     "output_type": "execute_result"
    }
   ],
   "source": [
    "y_test.shape"
   ]
  },
  {
   "cell_type": "markdown",
   "metadata": {},
   "source": [
    "### Build a network"
   ]
  },
  {
   "cell_type": "markdown",
   "metadata": {},
   "source": [
    "* observation is an 11-dim array\n",
    "* action is a (1, 3) shaped array"
   ]
  },
  {
   "cell_type": "code",
   "execution_count": 7,
   "metadata": {
    "collapsed": true
   },
   "outputs": [],
   "source": [
    "sess = tf.InteractiveSession()"
   ]
  },
  {
   "cell_type": "code",
   "execution_count": 8,
   "metadata": {
    "collapsed": true
   },
   "outputs": [],
   "source": [
    "# None: batch size could vary\n",
    "x_plh = tf.placeholder(tf.float32, shape=[None, 11])\n",
    "y_plh = tf.placeholder(tf.float32, shape=[None, 3])"
   ]
  },
  {
   "cell_type": "code",
   "execution_count": 9,
   "metadata": {
    "collapsed": true
   },
   "outputs": [],
   "source": [
    "hidden_lay_size = 15\n",
    "Wh_var = weight_variable([11, hidden_lay_size])\n",
    "bh_var = bias_variable([hidden_lay_size])\n",
    "# hh = tf.nn.relu(tf.matmul(x_plh, Wh_var) + bh_var)\n",
    "hh = tf.nn.sigmoid(tf.matmul(x_plh, Wh_var) + bh_var)"
   ]
  },
  {
   "cell_type": "code",
   "execution_count": 10,
   "metadata": {
    "collapsed": true
   },
   "outputs": [],
   "source": [
    "W_var = weight_variable([hidden_lay_size, 3])\n",
    "b_var = bias_variable([3])"
   ]
  },
  {
   "cell_type": "code",
   "execution_count": 11,
   "metadata": {
    "collapsed": true
   },
   "outputs": [],
   "source": [
    "y = tf.matmul(hh, W_var) + b_var"
   ]
  },
  {
   "cell_type": "code",
   "execution_count": 12,
   "metadata": {
    "collapsed": true
   },
   "outputs": [],
   "source": [
    "sess.run(tf.global_variables_initializer())"
   ]
  },
  {
   "cell_type": "code",
   "execution_count": 13,
   "metadata": {
    "collapsed": true
   },
   "outputs": [],
   "source": [
    "# cross_entropy = tf.reduce_mean(\n",
    "#     tf.nn.softmax_cross_entropy_with_logits(labels=y_plh, logits=y))\n",
    "\n",
    "loss_mse = tf.losses.mean_squared_error(labels=y_plh, predictions=y)"
   ]
  },
  {
   "cell_type": "code",
   "execution_count": 14,
   "metadata": {
    "collapsed": true
   },
   "outputs": [],
   "source": [
    "# train_step = tf.train.GradientDescentOptimizer(0.5).minimize(cross_entropy)\n",
    "train_step = tf.train.GradientDescentOptimizer(0.01).minimize(loss_mse)"
   ]
  },
  {
   "cell_type": "code",
   "execution_count": 15,
   "metadata": {
    "collapsed": true
   },
   "outputs": [],
   "source": [
    "# equivalently, \"metric_mse = tf.reduce_mean(tf.square(y_plh - y))\"\n",
    "metric_mse = tf.cast(tf.reduce_mean(tf.squared_difference(y_plh, y)), tf.float32)\n",
    "tv_mse, test_mse = [], []\n",
    "\n",
    "bs = 100      # batch size\n",
    "for k in range(100): # num. epochs\n",
    "    for i in range(X_tv.shape[0] // bs):\n",
    "        _x = X_tv[i * bs : (i+1) * bs, :]\n",
    "        _y = y_tv[i * bs : (i+1) * bs, :]\n",
    "        train_step.run(feed_dict={x_plh: _x, y_plh: _y})\n",
    "\n",
    "        tv_mse.append(metric_mse.eval(feed_dict={x_plh: X_tv, y_plh: y_tv}))\n",
    "        test_mse.append(metric_mse.eval(feed_dict={x_plh: X_test, y_plh: y_test}))"
   ]
  },
  {
   "cell_type": "code",
   "execution_count": 16,
   "metadata": {},
   "outputs": [
    {
     "data": {
      "image/png": "[encoded data removed]",
      "text/plain": [
       "<matplotlib.figure.Figure at 0x11a457828>"
      ]
     },
     "metadata": {},
     "output_type": "display_data"
    }
   ],
   "source": [
    "plt.plot(tv_mse, label='tv')\n",
    "plt.plot(test_mse, label='test')\n",
    "plt.legend()\n",
    "plt.xlabel('# iterations')\n",
    "plt.ylabel('MSE')\n",
    "plt.grid()"
   ]
  },
  {
   "cell_type": "code",
   "execution_count": 17,
   "metadata": {},
   "outputs": [
    {
     "name": "stdout",
     "output_type": "stream",
     "text": [
      "0.0592975 0.0580109\n"
     ]
    }
   ],
   "source": [
    "print(tv_mse[-1], test_mse[-1])"
   ]
  },
  {
   "cell_type": "markdown",
   "metadata": {},
   "source": [
    "**Important**: Compared to initializing weights and bias to 0, result: \"0.691441 0.670476\"\n",
    "It demonstrates how crucial it is to initialize weights properly."
   ]
  },
  {
   "cell_type": "markdown",
   "metadata": {},
   "source": [
    "Also, compared to linear multinomial logisitic regression, non-linear 2-layer fc NN beats its performance by nearly one order of magnitude."
   ]
  },
  {
   "cell_type": "markdown",
   "metadata": {},
   "source": [
    "# Visualize performance"
   ]
  },
  {
   "cell_type": "code",
   "execution_count": 24,
   "metadata": {},
   "outputs": [
    {
     "name": "stdout",
     "output_type": "stream",
     "text": [
      "20,40,60,80,100,120,140,160,180,200,220,240,260,280,300,320,340,360,380,400,420,440,460,480,500,520,540,560,580,600,\n",
      "1069.73400966\n",
      "1069.73400966\n"
     ]
    }
   ],
   "source": [
    "def pred_action(obs):\n",
    "    return y.eval(feed_dict={x_plh: obs.reshape(1, -1)})\n",
    "\n",
    "env = gym.make('Hopper-v1')\n",
    "\n",
    "obs = env.reset()\n",
    "totalr = 0\n",
    "done = False\n",
    "max_timesteps = 600\n",
    "for k in range(max_timesteps):\n",
    "    if (k + 1) % 20 == 0:\n",
    "        print(k + 1, end=',')\n",
    "    action = pred_action(obs[None,:])\n",
    "    obs, r, done, _ = env.step(action)\n",
    "    totalr += r\n",
    "    env.render()\n",
    "env.render(close=True)\n",
    "print()\n",
    "print(totalr)\n",
    "print(np.mean(totalr))"
   ]
  },
  {
   "cell_type": "markdown",
   "metadata": {},
   "source": [
    "1. The visualization shows that the hopper starts well, then struggle, and then falls evetually.\n",
    "1. An interesting observation is that compared to this simple network, the multinomial regression (linear) model's behavior is respectable, too. This simple NN doesn't seem to have a big edge, yet. The linear model behaves even more stably (smaller variance) than NN during multiple rollouts\n",
    "1. Most importantly, BC's performance is far worse than the pre-trained expert as the expert's return at 600 timestep is around 2187."
   ]
  },
  {
   "cell_type": "code",
   "execution_count": null,
   "metadata": {
    "collapsed": true
   },
   "outputs": [],
   "source": []
  }
 ],
 "metadata": {
  "kernelspec": {
   "display_name": "Python 3",
   "language": "python",
   "name": "python3"
  },
  "language_info": {
   "codemirror_mode": {
    "name": "ipython",
    "version": 3
   },
   "file_extension": ".py",
   "mimetype": "text/x-python",
   "name": "python",
   "nbconvert_exporter": "python",
   "pygments_lexer": "ipython3",
   "version": "3.5.4"
  }
 },
 "nbformat": 4,
 "nbformat_minor": 2
}
