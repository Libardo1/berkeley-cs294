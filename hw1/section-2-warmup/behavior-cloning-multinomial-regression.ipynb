{
 "cells": [
  {
   "cell_type": "code",
   "execution_count": 1,
   "metadata": {
    "collapsed": true
   },
   "outputs": [],
   "source": [
    "import pickle\n",
    "\n",
    "import numpy as np\n",
    "import matplotlib.pyplot as plt\n",
    "import tensorflow as tf\n",
    "\n",
    "import gym\n",
    "\n",
    "%matplotlib inline"
   ]
  },
  {
   "cell_type": "code",
   "execution_count": 2,
   "metadata": {
    "collapsed": true
   },
   "outputs": [],
   "source": [
    "with open('./train_test.pkl', 'rb') as inf:\n",
    "    X_tv, y_tv, X_test, y_test = pickle.load(inf)"
   ]
  },
  {
   "cell_type": "markdown",
   "metadata": {},
   "source": [
    "### Build a network"
   ]
  },
  {
   "cell_type": "markdown",
   "metadata": {},
   "source": [
    "* observation is an 11-dim array\n",
    "* action is a (1, 3) shaped array"
   ]
  },
  {
   "cell_type": "code",
   "execution_count": 3,
   "metadata": {
    "collapsed": true
   },
   "outputs": [],
   "source": [
    "sess = tf.InteractiveSession()"
   ]
  },
  {
   "cell_type": "code",
   "execution_count": 4,
   "metadata": {
    "collapsed": true
   },
   "outputs": [],
   "source": [
    "# None: batch size could vary\n",
    "x_plh = tf.placeholder(tf.float32, shape=[None, 11])\n",
    "y_plh = tf.placeholder(tf.float32, shape=[None, 3])"
   ]
  },
  {
   "cell_type": "code",
   "execution_count": 5,
   "metadata": {
    "collapsed": true
   },
   "outputs": [],
   "source": [
    "W_var = tf.Variable(tf.zeros([11, 3]))\n",
    "b_var = tf.Variable(tf.zeros([3]))"
   ]
  },
  {
   "cell_type": "code",
   "execution_count": 6,
   "metadata": {},
   "outputs": [],
   "source": [
    "sess.run(tf.global_variables_initializer())"
   ]
  },
  {
   "cell_type": "code",
   "execution_count": 7,
   "metadata": {
    "collapsed": true
   },
   "outputs": [],
   "source": [
    "y = tf.matmul(x_plh, W_var) + b_var"
   ]
  },
  {
   "cell_type": "code",
   "execution_count": 8,
   "metadata": {
    "collapsed": true
   },
   "outputs": [],
   "source": [
    "# cross_entropy = tf.reduce_mean(\n",
    "#     tf.nn.softmax_cross_entropy_with_logits(labels=y_plh, logits=y))\n",
    "\n",
    "loss_mse = tf.losses.mean_squared_error(labels=y_plh, predictions=y)"
   ]
  },
  {
   "cell_type": "code",
   "execution_count": 9,
   "metadata": {
    "collapsed": true
   },
   "outputs": [],
   "source": [
    "train_step = tf.train.GradientDescentOptimizer(0.01).minimize(loss_mse)"
   ]
  },
  {
   "cell_type": "code",
   "execution_count": 10,
   "metadata": {},
   "outputs": [
    {
     "data": {
      "text/plain": [
       "<tf.Operation 'GradientDescent' type=NoOp>"
      ]
     },
     "execution_count": 10,
     "metadata": {},
     "output_type": "execute_result"
    }
   ],
   "source": [
    "train_step"
   ]
  },
  {
   "cell_type": "code",
   "execution_count": 11,
   "metadata": {
    "collapsed": true
   },
   "outputs": [],
   "source": [
    "# equivalently, \"metric_mse = tf.reduce_mean(tf.square(y_plh - y))\"\n",
    "metric_mse = tf.cast(tf.reduce_mean(tf.squared_difference(y_plh, y)), tf.float32)\n",
    "tv_mse, test_mse = [], []\n",
    "\n",
    "bs = 100      # batch size\n",
    "for k in range(100): # num. epochs\n",
    "    for i in range(X_tv.shape[0] // bs):\n",
    "        _x = X_tv[i * bs : (i+1) * bs, :]\n",
    "        _y = y_tv[i * bs : (i+1) * bs, :]\n",
    "        train_step.run(feed_dict={x_plh: _x, y_plh: _y})\n",
    "\n",
    "        tv_mse.append(metric_mse.eval(feed_dict={x_plh: X_tv, y_plh: y_tv}))\n",
    "        test_mse.append(metric_mse.eval(feed_dict={x_plh: X_test, y_plh: y_test}))"
   ]
  },
  {
   "cell_type": "code",
   "execution_count": 12,
   "metadata": {},
   "outputs": [
    {
     "data": {
      "image/png": "[encoded data removed]",
      "text/plain": [
       "<matplotlib.figure.Figure at 0x10ff9b6a0>"
      ]
     },
     "metadata": {},
     "output_type": "display_data"
    }
   ],
   "source": [
    "plt.plot(tv_mse, label='tv')\n",
    "plt.plot(test_mse, label='test')\n",
    "plt.legend()\n",
    "plt.xlabel('# iterations')\n",
    "plt.ylabel('MSE')\n",
    "plt.grid()"
   ]
  },
  {
   "cell_type": "code",
   "execution_count": 13,
   "metadata": {},
   "outputs": [
    {
     "name": "stdout",
     "output_type": "stream",
     "text": [
      "0.262729 0.251245\n"
     ]
    }
   ],
   "source": [
    "print(tv_mse[-1], test_mse[-1])"
   ]
  },
  {
   "cell_type": "code",
   "execution_count": null,
   "metadata": {
    "collapsed": true
   },
   "outputs": [],
   "source": []
  }
 ],
 "metadata": {
  "kernelspec": {
   "display_name": "Python 3",
   "language": "python",
   "name": "python3"
  },
  "language_info": {
   "codemirror_mode": {
    "name": "ipython",
    "version": 3
   },
   "file_extension": ".py",
   "mimetype": "text/x-python",
   "name": "python",
   "nbconvert_exporter": "python",
   "pygments_lexer": "ipython3",
   "version": "3.5.4"
  }
 },
 "nbformat": 4,
 "nbformat_minor": 2
}
