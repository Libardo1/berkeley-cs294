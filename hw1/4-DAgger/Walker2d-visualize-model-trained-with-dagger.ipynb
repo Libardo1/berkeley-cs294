{
 "cells": [
  {
   "cell_type": "code",
   "execution_count": 1,
   "metadata": {
    "collapsed": true
   },
   "outputs": [],
   "source": [
    "import os\n",
    "import sys\n",
    "sys.path.insert(0, '..')\n",
    "import pickle\n",
    "\n",
    "import pandas as pd\n",
    "import numpy as np\n",
    "import matplotlib.pyplot as plt\n",
    "import tensorflow as tf\n",
    "\n",
    "import gym\n",
    "import load_policy\n",
    "\n",
    "%matplotlib inline"
   ]
  },
  {
   "cell_type": "code",
   "execution_count": 2,
   "metadata": {
    "collapsed": true
   },
   "outputs": [],
   "source": [
    "task = 'Walker2d-v1'\n",
    "hidden_layer_num = 2\n",
    "hidden_layer_size = 30\n",
    "training_data_pkl = '../train_test_data/Walker2d-10-rollouts-200.pkl'\n",
    "# model_prefix = 'dagger-models/trained-with-dagger-5-by-1000-epochs/a'\n",
    "# model_prefix = 'dagger-models/trained-with-dagger-10-by-1000-epochs/a'\n",
    "# model_prefix = 'dagger-models/trained-with-dagger-20-by-1000-epochs/a'\n",
    "model_prefix = 'dagger-models/trained-with-dagger-30-by-1000-epochs/a'"
   ]
  },
  {
   "cell_type": "markdown",
   "metadata": {},
   "source": [
    "# Compare mse change from no-DAgger training"
   ]
  },
  {
   "cell_type": "code",
   "execution_count": 3,
   "metadata": {},
   "outputs": [],
   "source": [
    "# no_dagger_csv = './dagger-models/train-with-no-dagger-5000-epochs/mse_train_test.csv'\n",
    "# no_dagger_csv = './dagger-models/train-with-no-dagger-10000-epochs/mse_train_test.csv'\n",
    "# no_dagger_csv = './dagger-models/train-with-no-dagger-20000-epochs/mse_train_test.csv'\n",
    "no_dagger_csv = './dagger-models/train-with-no-dagger-30000-epochs/mse_train_test.csv'\n",
    "dagger_csv = os.path.join(os.path.dirname(model_prefix), 'mse_train_test.csv')\n",
    "df_no_da = pd.read_csv(no_dagger_csv)\n",
    "df_da = pd.read_csv(dagger_csv)"
   ]
  },
  {
   "cell_type": "code",
   "execution_count": 4,
   "metadata": {},
   "outputs": [
    {
     "data": {
      "text/plain": [
       "(0, 0.1)"
      ]
     },
     "execution_count": 4,
     "metadata": {},
     "output_type": "execute_result"
    },
    {
     "data": {
      "image/png": "[encoded data removed]",
      "text/plain": [
       "<matplotlib.figure.Figure at 0x113e54940>"
      ]
     },
     "metadata": {},
     "output_type": "display_data"
    }
   ],
   "source": [
    "ax = plt.axes()\n",
    "\n",
    "plt.plot(df_no_da.tv_mse, label='no-dagger-tv')\n",
    "plt.plot(df_no_da.test_mse, label='no-dagger-test')\n",
    "plt.plot(df_da.tv_mse, label='dagger-tv')\n",
    "plt.plot(df_da.test_mse, label='dagger-test')\n",
    "plt.legend()\n",
    "plt.xlabel('# epochs')\n",
    "plt.ylabel('MSE')\n",
    "plt.grid()\n",
    "plt.ylim(0, 0.10)"
   ]
  },
  {
   "cell_type": "code",
   "execution_count": 5,
   "metadata": {},
   "outputs": [
    {
     "name": "stdout",
     "output_type": "stream",
     "text": [
      "INFO:tensorflow:(1608, 17), (402, 17), (1608, 6), (402, 6)\n"
     ]
    }
   ],
   "source": [
    "# TODO: this should be refactored and DRY from tuning-hyperparameters-and-visualization/train_humanoid.py\n",
    "\n",
    "def weight_variable(shape):\n",
    "    initial = tf.truncated_normal(shape, stddev=0.1)\n",
    "    return tf.Variable(initial)\n",
    "\n",
    "\n",
    "def bias_variable(shape):\n",
    "    initial = tf.constant(0.1, shape=shape)\n",
    "    return tf.Variable(initial)\n",
    "\n",
    "\n",
    "with open(training_data_pkl, 'rb') as inf:\n",
    "    X_tv, y_tv, X_test, y_test = pickle.load(inf)\n",
    "\n",
    "tf.logging.info('{0}, {1}, {2}, {3}'.format(\n",
    "    X_tv.shape, X_test.shape, y_tv.shape, y_test.shape\n",
    "))\n",
    "\n",
    "x_plh = tf.placeholder(tf.float32, shape=[None, X_tv.shape[1]])\n",
    "y_plh = tf.placeholder(tf.float32, shape=[None, y_tv.shape[1]])\n",
    "\n",
    "with tf.name_scope('fc1'):\n",
    "    Wh_var = weight_variable([x_plh.shape.dims[1].value, hidden_layer_size])\n",
    "    bh_var = bias_variable([hidden_layer_size])\n",
    "    hh = tf.nn.sigmoid(tf.matmul(x_plh, Wh_var) + bh_var)\n",
    "\n",
    "for i in range(hidden_layer_num - 1):\n",
    "    with tf.name_scope('fc{0}'.format(i + 2)):\n",
    "        Wh_var = weight_variable([hidden_layer_size, hidden_layer_size])\n",
    "        bh_var = bias_variable([hidden_layer_size])\n",
    "        hh = tf.nn.sigmoid(tf.matmul(hh, Wh_var) + bh_var)\n",
    "\n",
    "with tf.name_scope('out'):\n",
    "    W_var = weight_variable([hidden_layer_size, y_plh.shape.dims[1].value])\n",
    "    b_var = bias_variable([y_plh.shape.dims[1].value])\n",
    "    y_pred = tf.matmul(hh, W_var) + b_var"
   ]
  },
  {
   "cell_type": "code",
   "execution_count": 6,
   "metadata": {
    "collapsed": true
   },
   "outputs": [],
   "source": [
    "with tf.name_scope('mse'):\n",
    "    mse = tf.losses.mean_squared_error(labels=y_plh, predictions=y_pred)\n",
    "    mse = tf.cast(mse, tf.float32)\n",
    "\n",
    "with tf.name_scope('adam_optimizer'):\n",
    "    train_op = tf.train.AdamOptimizer(1e-4).minimize(mse)"
   ]
  },
  {
   "cell_type": "code",
   "execution_count": 7,
   "metadata": {
    "collapsed": true
   },
   "outputs": [],
   "source": [
    "saver = tf.train.Saver()\n",
    "\n",
    "sess = tf.InteractiveSession()\n",
    "sess.run(tf.global_variables_initializer())"
   ]
  },
  {
   "cell_type": "code",
   "execution_count": 8,
   "metadata": {},
   "outputs": [
    {
     "name": "stdout",
     "output_type": "stream",
     "text": [
      "INFO:tensorflow:Restoring parameters from dagger-models/trained-with-dagger-30-by-1000-epochs/a\n"
     ]
    }
   ],
   "source": [
    "saver.restore(sess, model_prefix)"
   ]
  },
  {
   "cell_type": "markdown",
   "metadata": {},
   "source": [
    "# Evaluate performance"
   ]
  },
  {
   "cell_type": "code",
   "execution_count": 9,
   "metadata": {
    "collapsed": true
   },
   "outputs": [],
   "source": [
    "def pred_action(obs):\n",
    "    return y_pred.eval(feed_dict={x_plh: obs.reshape(1, -1)})"
   ]
  },
  {
   "cell_type": "code",
   "execution_count": 10,
   "metadata": {},
   "outputs": [
    {
     "name": "stdout",
     "output_type": "stream",
     "text": [
      "100,200,300,400,500,600,700,800,900,1000,\n",
      "100,200,300,400,500,600,700,800,900,1000,\n",
      "100,200,300,400,500,600,700,800,900,1000,\n",
      "100,200,300,400,500,600,700,800,900,1000,\n",
      "100,200,300,400,500,600,700,800,900,1000,\n",
      "100,200,300,400,500,600,700,800,900,1000,\n",
      "100,200,300,400,500,600,700,800,900,1000,\n",
      "100,200,300,400,500,600,700,800,900,1000,\n",
      "100,200,300,400,500,600,700,800,900,1000,\n",
      "100,200,300,400,500,600,700,800,900,1000,\n",
      "100,200,300,400,500,600,700,800,900,1000,\n",
      "100,200,300,400,500,600,700,800,900,1000,\n",
      "100,200,300,400,500,600,700,800,900,1000,\n",
      "100,200,300,400,500,600,700,800,900,1000,\n",
      "100,200,300,400,500,600,700,800,900,1000,\n",
      "100,200,300,400,500,600,700,800,900,1000,\n",
      "100,200,300,400,500,600,700,800,900,1000,\n",
      "100,200,300,400,500,600,700,800,900,1000,\n",
      "100,200,300,400,500,600,700,800,900,1000,\n",
      "100,200,300,400,500,600,700,800,900,1000,\n",
      "100,200,300,400,500,600,700,800,900,1000,\n",
      "100,200,300,400,500,600,700,800,900,1000,\n",
      "100,200,300,400,500,600,700,800,900,1000,\n",
      "100,200,300,400,500,600,700,800,900,1000,\n",
      "100,200,300,400,500,600,700,800,900,1000,\n",
      "100,200,300,400,500,600,700,800,900,1000,\n",
      "100,200,300,400,500,600,700,800,900,1000,\n",
      "100,200,300,400,500,600,700,800,900,1000,\n",
      "100,200,300,400,500,600,700,800,900,1000,\n",
      "100,200,300,400,500,600,700,800,900,1000,\n",
      "100,200,300,400,500,600,700,800,900,1000,\n",
      "100,200,300,400,500,600,700,800,900,1000,\n",
      "100,200,300,400,500,600,700,800,900,1000,\n",
      "100,200,300,400,500,600,700,800,900,1000,\n",
      "100,200,300,400,500,600,700,800,900,1000,\n",
      "100,200,300,400,500,600,700,800,900,1000,\n",
      "100,200,300,400,500,600,700,800,900,1000,\n",
      "100,200,300,400,500,600,700,800,900,1000,\n",
      "100,200,300,400,500,600,700,800,900,1000,\n",
      "100,200,300,400,500,600,700,800,900,1000,\n",
      "100,200,300,400,500,600,700,800,900,1000,\n",
      "100,200,300,400,500,600,700,800,900,1000,\n",
      "100,200,300,400,500,600,700,800,900,1000,\n",
      "100,200,300,400,500,600,700,800,900,1000,\n",
      "100,200,300,400,500,600,700,800,900,1000,\n",
      "100,200,300,400,500,600,700,800,900,1000,\n",
      "100,200,300,400,500,600,700,800,900,1000,\n",
      "100,200,300,400,500,600,700,800,900,1000,\n",
      "100,200,300,400,500,600,700,800,900,1000,\n",
      "100,200,300,400,500,600,700,800,900,1000,\n",
      "100,200,300,400,500,600,700,800,900,1000,\n",
      "100,200,300,400,500,600,700,800,900,1000,\n",
      "100,200,300,400,500,600,700,800,900,1000,\n",
      "100,200,300,400,500,600,700,800,900,1000,\n",
      "100,200,300,400,500,600,700,800,900,1000,\n",
      "100,200,300,400,500,600,700,800,900,1000,\n",
      "100,200,300,400,500,600,700,800,900,1000,\n",
      "100,200,300,400,500,600,700,800,900,1000,\n",
      "100,200,300,400,500,600,700,800,900,1000,\n",
      "100,200,300,400,500,600,700,800,900,1000,\n",
      "100,200,300,400,500,600,700,800,900,1000,\n",
      "100,200,300,400,500,600,700,800,900,1000,\n",
      "100,200,300,400,500,600,700,800,900,1000,\n",
      "100,200,300,400,500,600,700,800,900,1000,\n",
      "100,200,300,400,500,600,700,800,900,1000,\n",
      "100,200,300,400,500,600,700,800,900,1000,\n",
      "100,200,300,400,500,600,700,800,900,1000,\n",
      "100,200,300,400,500,600,700,800,900,1000,\n",
      "100,200,300,400,500,600,700,800,900,1000,\n",
      "100,200,300,400,500,600,700,800,900,1000,\n",
      "100,200,300,400,500,600,700,800,900,1000,\n",
      "100,200,300,400,500,600,700,800,900,1000,\n",
      "100,200,300,400,500,600,700,800,900,1000,\n",
      "100,200,300,400,500,600,700,800,900,1000,\n",
      "100,200,300,400,500,600,700,800,900,1000,\n",
      "100,200,300,400,500,600,700,800,900,1000,\n",
      "100,200,300,400,500,600,700,800,900,1000,\n",
      "100,200,300,400,500,600,700,800,900,1000,\n",
      "100,200,300,400,500,600,700,800,900,1000,\n",
      "100,200,300,400,500,600,700,800,900,1000,\n",
      "100,200,300,400,500,600,700,800,900,1000,\n",
      "100,200,300,400,500,600,700,800,900,1000,\n",
      "100,200,300,400,500,600,700,800,900,1000,\n",
      "100,200,300,400,500,600,700,800,900,1000,\n",
      "100,200,300,400,500,600,700,800,900,1000,\n",
      "100,200,300,400,500,600,700,800,900,1000,\n",
      "100,200,300,400,500,600,700,800,900,1000,\n",
      "100,200,300,400,500,600,700,800,900,1000,\n",
      "100,200,300,400,500,600,700,800,900,1000,\n",
      "100,200,300,400,500,600,700,800,900,1000,\n",
      "100,200,300,400,500,600,700,800,900,1000,\n",
      "100,200,300,400,500,600,700,800,900,1000,\n",
      "100,200,300,400,500,600,700,800,900,1000,\n",
      "100,200,300,400,500,600,700,800,900,1000,\n",
      "100,200,300,400,500,600,700,800,900,1000,\n",
      "100,200,300,400,500,600,700,800,900,1000,\n",
      "100,200,300,400,500,600,700,800,900,1000,\n",
      "100,200,300,400,500,600,700,800,900,1000,\n",
      "100,200,300,400,500,600,700,800,900,1000,\n",
      "100,200,300,400,500,600,700,800,900,1000,\n",
      "\n",
      "2769.45708469\n",
      "477.766540503\n"
     ]
    }
   ],
   "source": [
    "env = gym.make(task)\n",
    "\n",
    "done = False\n",
    "max_timesteps = 1000\n",
    "num_rollouts = 100\n",
    "rewards = []\n",
    "for _ in range(num_rollouts):\n",
    "    totalr = 0\n",
    "    obs = env.reset()\n",
    "    for k in range(max_timesteps):\n",
    "        if (k + 1) % 100 == 0:\n",
    "            print(k + 1, end=',')\n",
    "        action = pred_action(obs)\n",
    "        obs, r, done, _ = env.step(action)\n",
    "        totalr += r\n",
    "#         env.render()\n",
    "#     env.render(close=True)\n",
    "    rewards.append(totalr)\n",
    "    print()\n",
    "print()\n",
    "print(np.mean(rewards))\n",
    "print(np.std(rewards))"
   ]
  },
  {
   "cell_type": "markdown",
   "metadata": {},
   "source": [
    "#### Expert performance"
   ]
  },
  {
   "cell_type": "markdown",
   "metadata": {},
   "source": [
    "Expert's return at 1000 timestep is from 10 rollouts\n",
    "\n",
    "mean return 5561.63878827\n",
    "std of return 32.2141290284\n",
    "\n",
    "Collected by running \n",
    "\n",
    "```\n",
    "python run_expert.py experts/Walker2d-v1.pkl Walker2d-v1 --max_timesteps 1000 --num_rollouts 10\n",
    "```"
   ]
  },
  {
   "cell_type": "markdown",
   "metadata": {},
   "source": [
    "# Visualize performance"
   ]
  },
  {
   "cell_type": "code",
   "execution_count": 11,
   "metadata": {},
   "outputs": [
    {
     "name": "stdout",
     "output_type": "stream",
     "text": [
      "20,40,60,80,100,120,140,160,180,200,220,240,260,280,300,320,340,360,380,400,420,440,460,480,500,520,540,560,580,600,620,640,660,680,700,720,740,760,780,800,820,840,860,880,900,920,940,960,980,1000,\n",
      "2798.71078021\n",
      "2798.71078021\n"
     ]
    }
   ],
   "source": [
    "env = gym.make(task)\n",
    "\n",
    "obs = env.reset()\n",
    "\n",
    "totalr = 0\n",
    "done = False\n",
    "max_timesteps = 1000\n",
    "for k in range(max_timesteps):\n",
    "    if (k + 1) % 20 == 0:\n",
    "        print(k + 1, end=',')\n",
    "    action = pred_action(obs)\n",
    "    obs, r, done, _ = env.step(action)\n",
    "    totalr += r\n",
    "    env.render()\n",
    "env.render(close=True)\n",
    "print()\n",
    "print(totalr)\n",
    "print(np.mean(totalr))"
   ]
  },
  {
   "cell_type": "code",
   "execution_count": null,
   "metadata": {
    "collapsed": true
   },
   "outputs": [],
   "source": []
  }
 ],
 "metadata": {
  "kernelspec": {
   "display_name": "Python 3",
   "language": "python",
   "name": "python3"
  },
  "language_info": {
   "codemirror_mode": {
    "name": "ipython",
    "version": 3
   },
   "file_extension": ".py",
   "mimetype": "text/x-python",
   "name": "python",
   "nbconvert_exporter": "python",
   "pygments_lexer": "ipython3",
   "version": "3.5.4"
  }
 },
 "nbformat": 4,
 "nbformat_minor": 2
}
