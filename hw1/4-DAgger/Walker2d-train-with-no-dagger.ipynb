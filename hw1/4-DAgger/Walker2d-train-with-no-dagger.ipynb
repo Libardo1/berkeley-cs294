{
 "cells": [
  {
   "cell_type": "code",
   "execution_count": 1,
   "metadata": {},
   "outputs": [],
   "source": [
    "import os\n",
    "import sys\n",
    "sys.path.insert(0, '..')\n",
    "import pickle\n",
    "\n",
    "import pandas as pd\n",
    "import numpy as np\n",
    "import matplotlib.pyplot as plt\n",
    "import tensorflow as tf\n",
    "\n",
    "import gym\n",
    "import load_policy\n",
    "\n",
    "%matplotlib inline"
   ]
  },
  {
   "cell_type": "code",
   "execution_count": 2,
   "metadata": {
    "collapsed": true
   },
   "outputs": [],
   "source": [
    "task = 'Walker2d-v1'\n",
    "hidden_layer_num = 2\n",
    "hidden_layer_size = 30\n",
    "num_epochs = 30000\n",
    "model_prefix = 'dagger-models/train-with-no-dagger-{0}-epochs/a'.format(num_epochs)\n",
    "training_data_pkl = '../train_test_data/Walker2d-10-rollouts-200.pkl'"
   ]
  },
  {
   "cell_type": "code",
   "execution_count": 3,
   "metadata": {},
   "outputs": [
    {
     "name": "stdout",
     "output_type": "stream",
     "text": [
      "INFO:tensorflow:(1608, 17), (402, 17), (1608, 6), (402, 6)\n"
     ]
    }
   ],
   "source": [
    "# TODO: this should be refactored and DRY from tuning-hyperparameters-and-visualization/train_humanoid.py\n",
    "\n",
    "def weight_variable(shape):\n",
    "    initial = tf.truncated_normal(shape, stddev=0.1)\n",
    "    return tf.Variable(initial)\n",
    "\n",
    "\n",
    "def bias_variable(shape):\n",
    "    initial = tf.constant(0.1, shape=shape)\n",
    "    return tf.Variable(initial)\n",
    "\n",
    "\n",
    "with open(training_data_pkl, 'rb') as inf:\n",
    "    X_tv, y_tv, X_test, y_test = pickle.load(inf)\n",
    "\n",
    "tf.logging.info('{0}, {1}, {2}, {3}'.format(\n",
    "    X_tv.shape, X_test.shape, y_tv.shape, y_test.shape\n",
    "))\n",
    "\n",
    "x_plh = tf.placeholder(tf.float32, shape=[None, X_tv.shape[1]])\n",
    "y_plh = tf.placeholder(tf.float32, shape=[None, y_tv.shape[1]])\n",
    "\n",
    "with tf.name_scope('fc1'):\n",
    "    Wh_var = weight_variable([x_plh.shape.dims[1].value, hidden_layer_size])\n",
    "    bh_var = bias_variable([hidden_layer_size])\n",
    "    hh = tf.nn.sigmoid(tf.matmul(x_plh, Wh_var) + bh_var)\n",
    "\n",
    "for i in range(hidden_layer_num - 1):\n",
    "    with tf.name_scope('fc{0}'.format(i + 2)):\n",
    "        Wh_var = weight_variable([hidden_layer_size, hidden_layer_size])\n",
    "        bh_var = bias_variable([hidden_layer_size])\n",
    "        hh = tf.nn.sigmoid(tf.matmul(hh, Wh_var) + bh_var)\n",
    "\n",
    "with tf.name_scope('out'):\n",
    "    W_var = weight_variable([hidden_layer_size, y_plh.shape.dims[1].value])\n",
    "    b_var = bias_variable([y_plh.shape.dims[1].value])\n",
    "    y_pred = tf.matmul(hh, W_var) + b_var"
   ]
  },
  {
   "cell_type": "code",
   "execution_count": 4,
   "metadata": {
    "collapsed": true
   },
   "outputs": [],
   "source": [
    "with tf.name_scope('mse'):\n",
    "    mse = tf.losses.mean_squared_error(labels=y_plh, predictions=y_pred)\n",
    "    mse = tf.cast(mse, tf.float32)\n",
    "\n",
    "with tf.name_scope('adam_optimizer'):\n",
    "    train_op = tf.train.AdamOptimizer(1e-4).minimize(mse)"
   ]
  },
  {
   "cell_type": "code",
   "execution_count": 5,
   "metadata": {
    "collapsed": true
   },
   "outputs": [],
   "source": [
    "saver = tf.train.Saver()\n",
    "\n",
    "sess = tf.InteractiveSession()\n",
    "sess.run(tf.global_variables_initializer())"
   ]
  },
  {
   "cell_type": "code",
   "execution_count": 6,
   "metadata": {
    "collapsed": true
   },
   "outputs": [],
   "source": [
    "mse_tv, mse_test = [], []"
   ]
  },
  {
   "cell_type": "code",
   "execution_count": 7,
   "metadata": {
    "scrolled": true
   },
   "outputs": [
    {
     "name": "stdout",
     "output_type": "stream",
     "text": [
      "0,100,200,300,400,500,600,700,800,900,1000,1100,1200,1300,1400,1500,1600,1700,1800,1900,2000,2100,2200,2300,2400,2500,2600,2700,2800,2900,3000,3100,3200,3300,3400,3500,3600,3700,3800,3900,4000,4100,4200,4300,4400,4500,4600,4700,4800,4900,5000,5100,5200,5300,5400,5500,5600,5700,5800,5900,6000,6100,6200,6300,6400,6500,6600,6700,6800,6900,7000,7100,7200,7300,7400,7500,7600,7700,7800,7900,8000,8100,8200,8300,8400,8500,8600,8700,8800,8900,9000,9100,9200,9300,9400,9500,9600,9700,9800,9900,10000,10100,10200,10300,10400,10500,10600,10700,10800,10900,11000,11100,11200,11300,11400,11500,11600,11700,11800,11900,12000,12100,12200,12300,12400,12500,12600,12700,12800,12900,13000,13100,13200,13300,13400,13500,13600,13700,13800,13900,14000,14100,14200,14300,14400,14500,14600,14700,14800,14900,15000,15100,15200,15300,15400,15500,15600,15700,15800,15900,16000,16100,16200,16300,16400,16500,16600,16700,16800,16900,17000,17100,17200,17300,17400,17500,17600,17700,17800,17900,18000,18100,18200,18300,18400,18500,18600,18700,18800,18900,19000,19100,19200,19300,19400,19500,19600,19700,19800,19900,20000,20100,20200,20300,20400,20500,20600,20700,20800,20900,21000,21100,21200,21300,21400,21500,21600,21700,21800,21900,22000,22100,22200,22300,22400,22500,22600,22700,22800,22900,23000,23100,23200,23300,23400,23500,23600,23700,23800,23900,24000,24100,24200,24300,24400,24500,24600,24700,24800,24900,25000,25100,25200,25300,25400,25500,25600,25700,25800,25900,26000,26100,26200,26300,26400,26500,26600,26700,26800,26900,27000,27100,27200,27300,27400,27500,27600,27700,27800,27900,28000,28100,28200,28300,28400,28500,28600,28700,28800,28900,29000,29100,29200,29300,29400,29500,29600,29700,29800,29900,"
     ]
    }
   ],
   "source": [
    "bs = 128      # batch size\n",
    "for k in range(num_epochs): # num. epochs\n",
    "    for i in range(X_tv.shape[0] // bs):\n",
    "        _x = X_tv[i * bs : (i+1) * bs, :]\n",
    "        _y = y_tv[i * bs : (i+1) * bs, :]\n",
    "        train_op.run(feed_dict={x_plh: _x, y_plh: _y})\n",
    "\n",
    "    if (k + 1) % 100 == 1:\n",
    "        print(k, end=',')\n",
    "    mse_tv.append(mse.eval(feed_dict={x_plh: X_tv, y_plh: y_tv}))\n",
    "    mse_test.append(mse.eval(feed_dict={x_plh: X_test, y_plh: y_test}))"
   ]
  },
  {
   "cell_type": "code",
   "execution_count": 12,
   "metadata": {
    "scrolled": true
   },
   "outputs": [
    {
     "data": {
      "image/png": "[encoded data removed]",
      "text/plain": [
       "<matplotlib.figure.Figure at 0x11c0ccc88>"
      ]
     },
     "metadata": {},
     "output_type": "display_data"
    }
   ],
   "source": [
    "plt.plot(mse_tv, label='tv')\n",
    "plt.plot(mse_test, label='test')\n",
    "plt.legend()\n",
    "plt.xlabel('# iterations')\n",
    "plt.ylabel('MSE')\n",
    "plt.grid()"
   ]
  },
  {
   "cell_type": "code",
   "execution_count": 13,
   "metadata": {},
   "outputs": [
    {
     "name": "stdout",
     "output_type": "stream",
     "text": [
      "0.00161509 0.00226328\n"
     ]
    }
   ],
   "source": [
    "print(mse_tv[-1], mse_test[-1])"
   ]
  },
  {
   "cell_type": "code",
   "execution_count": 14,
   "metadata": {},
   "outputs": [
    {
     "data": {
      "text/plain": [
       "'dagger-models/train-with-no-dagger-30000-epochs/a'"
      ]
     },
     "execution_count": 14,
     "metadata": {},
     "output_type": "execute_result"
    }
   ],
   "source": [
    "saver.save(sess, model_prefix)"
   ]
  },
  {
   "cell_type": "code",
   "execution_count": 15,
   "metadata": {},
   "outputs": [],
   "source": [
    "out_df = pd.DataFrame(list(zip(mse_tv, mse_test)),\n",
    "                      columns=['tv_mse', 'test_mse'])\n",
    "\n",
    "out_df.to_csv(\n",
    "    os.path.join(\n",
    "        os.path.dirname(model_prefix), 'mse_train_test.csv'),\n",
    "    index=False)"
   ]
  },
  {
   "cell_type": "code",
   "execution_count": null,
   "metadata": {
    "collapsed": true
   },
   "outputs": [],
   "source": []
  }
 ],
 "metadata": {
  "kernelspec": {
   "display_name": "Python 3",
   "language": "python",
   "name": "python3"
  },
  "language_info": {
   "codemirror_mode": {
    "name": "ipython",
    "version": 3
   },
   "file_extension": ".py",
   "mimetype": "text/x-python",
   "name": "python",
   "nbconvert_exporter": "python",
   "pygments_lexer": "ipython3",
   "version": "3.5.4"
  }
 },
 "nbformat": 4,
 "nbformat_minor": 2
}
