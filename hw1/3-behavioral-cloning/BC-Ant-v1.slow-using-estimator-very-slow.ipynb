{
 "cells": [
  {
   "cell_type": "code",
   "execution_count": 1,
   "metadata": {
    "collapsed": true
   },
   "outputs": [],
   "source": [
    "import pickle\n",
    "\n",
    "import numpy as np\n",
    "import matplotlib.pyplot as plt\n",
    "import tensorflow as tf\n",
    "\n",
    "import gym\n",
    "\n",
    "%matplotlib inline"
   ]
  },
  {
   "cell_type": "code",
   "execution_count": 2,
   "metadata": {
    "collapsed": true
   },
   "outputs": [],
   "source": [
    "sess = tf.InteractiveSession()"
   ]
  },
  {
   "cell_type": "code",
   "execution_count": 3,
   "metadata": {
    "collapsed": true
   },
   "outputs": [],
   "source": [
    "with open('./ant_train_test.pkl', 'rb') as inf:\n",
    "    X_tv, y_tv, X_test, y_test = pickle.load(inf)"
   ]
  },
  {
   "cell_type": "code",
   "execution_count": 4,
   "metadata": {},
   "outputs": [
    {
     "name": "stdout",
     "output_type": "stream",
     "text": [
      "(16008, 111) (4002, 111) (16008, 8) (4002, 8)\n"
     ]
    }
   ],
   "source": [
    "print(X_tv.shape, X_test.shape, y_tv.shape, y_test.shape)"
   ]
  },
  {
   "cell_type": "code",
   "execution_count": 5,
   "metadata": {
    "collapsed": true
   },
   "outputs": [],
   "source": [
    "feature_columns = [tf.feature_column.numeric_column(\"x\", shape=[111])]"
   ]
  },
  {
   "cell_type": "code",
   "execution_count": 6,
   "metadata": {},
   "outputs": [
    {
     "name": "stdout",
     "output_type": "stream",
     "text": [
      "INFO:tensorflow:Using default config.\n",
      "WARNING:tensorflow:Using temporary folder as model directory: /var/folders/79/dh9kb7m51m10qqhwqh4hg9pm0000gn/T/tmp27hoxf2g\n",
      "INFO:tensorflow:Using config: {'_keep_checkpoint_max': 5, '_session_config': None, '_save_checkpoints_steps': None, '_keep_checkpoint_every_n_hours': 10000, '_tf_random_seed': 1, '_save_summary_steps': 100, '_log_step_count_steps': 100, '_model_dir': '/var/folders/79/dh9kb7m51m10qqhwqh4hg9pm0000gn/T/tmp27hoxf2g', '_save_checkpoints_secs': 600}\n"
     ]
    }
   ],
   "source": [
    "regressor = tf.estimator.DNNRegressor(\n",
    "    feature_columns=feature_columns,\n",
    "    hidden_units=[10, 20, 10],\n",
    "    label_dimension=8,\n",
    "#     model_dir=\"/tmp/iris_model\"\n",
    ")"
   ]
  },
  {
   "cell_type": "code",
   "execution_count": 7,
   "metadata": {
    "collapsed": true
   },
   "outputs": [],
   "source": [
    "# Define the training inputs\n",
    "train_input_fn = tf.estimator.inputs.numpy_input_fn(\n",
    "    x={\"x\": X_tv},\n",
    "    y=y_tv,\n",
    "    batch_size=128,\n",
    "    num_epochs=5,\n",
    "    shuffle=True)"
   ]
  },
  {
   "cell_type": "code",
   "execution_count": 8,
   "metadata": {},
   "outputs": [
    {
     "name": "stdout",
     "output_type": "stream",
     "text": [
      "INFO:tensorflow:Create CheckpointSaverHook.\n",
      "INFO:tensorflow:Saving checkpoints for 1 into /var/folders/79/dh9kb7m51m10qqhwqh4hg9pm0000gn/T/tmp27hoxf2g/model.ckpt.\n",
      "INFO:tensorflow:step = 1, loss = 232.44\n",
      "INFO:tensorflow:global_step/sec: 687.616\n",
      "INFO:tensorflow:step = 101, loss = 20.0282 (0.147 sec)\n",
      "INFO:tensorflow:global_step/sec: 727.256\n",
      "INFO:tensorflow:step = 201, loss = 22.2819 (0.137 sec)\n",
      "INFO:tensorflow:global_step/sec: 771.392\n",
      "INFO:tensorflow:step = 301, loss = 17.2948 (0.130 sec)\n",
      "INFO:tensorflow:global_step/sec: 746.307\n",
      "INFO:tensorflow:step = 401, loss = 17.7119 (0.134 sec)\n",
      "INFO:tensorflow:global_step/sec: 771.593\n",
      "INFO:tensorflow:step = 501, loss = 17.5465 (0.130 sec)\n",
      "INFO:tensorflow:global_step/sec: 777.375\n",
      "INFO:tensorflow:step = 601, loss = 14.5475 (0.129 sec)\n",
      "INFO:tensorflow:Saving checkpoints for 626 into /var/folders/79/dh9kb7m51m10qqhwqh4hg9pm0000gn/T/tmp27hoxf2g/model.ckpt.\n",
      "INFO:tensorflow:Loss for final step: 6.00865.\n"
     ]
    },
    {
     "data": {
      "text/plain": [
       "<tensorflow.python.estimator.canned.dnn.DNNRegressor at 0x11b6b97f0>"
      ]
     },
     "execution_count": 8,
     "metadata": {},
     "output_type": "execute_result"
    }
   ],
   "source": [
    "regressor.train(input_fn=train_input_fn)"
   ]
  },
  {
   "cell_type": "code",
   "execution_count": 9,
   "metadata": {
    "collapsed": true
   },
   "outputs": [],
   "source": [
    "test_input_fn = tf.estimator.inputs.numpy_input_fn(\n",
    "    x={\"x\": X_test},\n",
    "    y=y_test,\n",
    "    num_epochs=1,\n",
    "    shuffle=False)"
   ]
  },
  {
   "cell_type": "code",
   "execution_count": 10,
   "metadata": {},
   "outputs": [
    {
     "name": "stdout",
     "output_type": "stream",
     "text": [
      "INFO:tensorflow:Starting evaluation at 2017-10-20-04:18:50\n",
      "INFO:tensorflow:Restoring parameters from /var/folders/79/dh9kb7m51m10qqhwqh4hg9pm0000gn/T/tmp27hoxf2g/model.ckpt-626\n",
      "INFO:tensorflow:Finished evaluation at 2017-10-20-04:18:50\n",
      "INFO:tensorflow:Saving dict for global step 626: average_loss = 0.016001, global_step = 626, loss = 16.009\n"
     ]
    },
    {
     "data": {
      "text/plain": [
       "{'average_loss': 0.016000958, 'global_step': 626, 'loss': 16.008959}"
      ]
     },
     "execution_count": 10,
     "metadata": {},
     "output_type": "execute_result"
    }
   ],
   "source": [
    "regressor.evaluate(input_fn=test_input_fn)"
   ]
  },
  {
   "cell_type": "code",
   "execution_count": 11,
   "metadata": {},
   "outputs": [
    {
     "name": "stdout",
     "output_type": "stream",
     "text": [
      "INFO:tensorflow:Starting evaluation at 2017-10-20-04:18:52\n",
      "INFO:tensorflow:Restoring parameters from /var/folders/79/dh9kb7m51m10qqhwqh4hg9pm0000gn/T/tmp27hoxf2g/model.ckpt-626\n",
      "INFO:tensorflow:Finished evaluation at 2017-10-20-04:18:53\n",
      "INFO:tensorflow:Saving dict for global step 626: average_loss = 0.0153706, global_step = 626, loss = 15.7222\n"
     ]
    },
    {
     "data": {
      "text/plain": [
       "{'average_loss': 0.015370595, 'global_step': 626, 'loss': 15.722204}"
      ]
     },
     "execution_count": 11,
     "metadata": {},
     "output_type": "execute_result"
    }
   ],
   "source": [
    "regressor.evaluate(input_fn=train_input_fn)"
   ]
  },
  {
   "cell_type": "code",
   "execution_count": 13,
   "metadata": {
    "collapsed": true
   },
   "outputs": [],
   "source": []
  },
  {
   "cell_type": "code",
   "execution_count": 42,
   "metadata": {},
   "outputs": [
    {
     "name": "stdout",
     "output_type": "stream",
     "text": [
      "ERROR:tensorflow:==================================\n",
      "Object was never used (type <class 'tensorflow.python.framework.ops.Tensor'>):\n",
      "<tf.Tensor 'report_uninitialized_variables_1/boolean_mask/Gather:0' shape=(?,) dtype=string>\n",
      "If you want to mark it as used call its \"mark_used()\" method.\n",
      "It was originally created here:\n",
      "['File \"/Users/zyxue/Projects/sutton-barto-rl-exercises/berkeley-cs294/venv/lib/python3.5/runpy.py\", line 193, in _run_module_as_main\\n    \"__main__\", mod_spec)', 'File \"/Users/zyxue/Projects/sutton-barto-rl-exercises/berkeley-cs294/venv/lib/python3.5/runpy.py\", line 85, in _run_code\\n    exec(code, run_globals)', 'File \"/Users/zyxue/Projects/sutton-barto-rl-exercises/berkeley-cs294/venv/lib/python3.5/site-packages/ipykernel_launcher.py\", line 16, in <module>\\n    app.launch_new_instance()', 'File \"/Users/zyxue/Projects/sutton-barto-rl-exercises/berkeley-cs294/venv/lib/python3.5/site-packages/traitlets/config/application.py\", line 658, in launch_instance\\n    app.start()', 'File \"/Users/zyxue/Projects/sutton-barto-rl-exercises/berkeley-cs294/venv/lib/python3.5/site-packages/ipykernel/kernelapp.py\", line 477, in start\\n    ioloop.IOLoop.instance().start()', 'File \"/Users/zyxue/Projects/sutton-barto-rl-exercises/berkeley-cs294/venv/lib/python3.5/site-packages/zmq/eventloop/ioloop.py\", line 177, in start\\n    super(ZMQIOLoop, self).start()', 'File \"/Users/zyxue/Projects/sutton-barto-rl-exercises/berkeley-cs294/venv/lib/python3.5/site-packages/tornado/ioloop.py\", line 888, in start\\n    handler_func(fd_obj, events)', 'File \"/Users/zyxue/Projects/sutton-barto-rl-exercises/berkeley-cs294/venv/lib/python3.5/site-packages/tornado/stack_context.py\", line 277, in null_wrapper\\n    return fn(*args, **kwargs)', 'File \"/Users/zyxue/Projects/sutton-barto-rl-exercises/berkeley-cs294/venv/lib/python3.5/site-packages/zmq/eventloop/zmqstream.py\", line 440, in _handle_events\\n    self._handle_recv()', 'File \"/Users/zyxue/Projects/sutton-barto-rl-exercises/berkeley-cs294/venv/lib/python3.5/site-packages/zmq/eventloop/zmqstream.py\", line 472, in _handle_recv\\n    self._run_callback(callback, msg)', 'File \"/Users/zyxue/Projects/sutton-barto-rl-exercises/berkeley-cs294/venv/lib/python3.5/site-packages/zmq/eventloop/zmqstream.py\", line 414, in _run_callback\\n    callback(*args, **kwargs)', 'File \"/Users/zyxue/Projects/sutton-barto-rl-exercises/berkeley-cs294/venv/lib/python3.5/site-packages/tornado/stack_context.py\", line 277, in null_wrapper\\n    return fn(*args, **kwargs)', 'File \"/Users/zyxue/Projects/sutton-barto-rl-exercises/berkeley-cs294/venv/lib/python3.5/site-packages/ipykernel/kernelbase.py\", line 283, in dispatcher\\n    return self.dispatch_shell(stream, msg)', 'File \"/Users/zyxue/Projects/sutton-barto-rl-exercises/berkeley-cs294/venv/lib/python3.5/site-packages/ipykernel/kernelbase.py\", line 235, in dispatch_shell\\n    handler(stream, idents, msg)', 'File \"/Users/zyxue/Projects/sutton-barto-rl-exercises/berkeley-cs294/venv/lib/python3.5/site-packages/ipykernel/kernelbase.py\", line 399, in execute_request\\n    user_expressions, allow_stdin)', 'File \"/Users/zyxue/Projects/sutton-barto-rl-exercises/berkeley-cs294/venv/lib/python3.5/site-packages/ipykernel/ipkernel.py\", line 196, in do_execute\\n    res = shell.run_cell(code, store_history=store_history, silent=silent)', 'File \"/Users/zyxue/Projects/sutton-barto-rl-exercises/berkeley-cs294/venv/lib/python3.5/site-packages/ipykernel/zmqshell.py\", line 533, in run_cell\\n    return super(ZMQInteractiveShell, self).run_cell(*args, **kwargs)', 'File \"/Users/zyxue/Projects/sutton-barto-rl-exercises/berkeley-cs294/venv/lib/python3.5/site-packages/IPython/core/interactiveshell.py\", line 2698, in run_cell\\n    interactivity=interactivity, compiler=compiler, result=result)', 'File \"/Users/zyxue/Projects/sutton-barto-rl-exercises/berkeley-cs294/venv/lib/python3.5/site-packages/IPython/core/interactiveshell.py\", line 2802, in run_ast_nodes\\n    if self.run_code(code, result):', 'File \"/Users/zyxue/Projects/sutton-barto-rl-exercises/berkeley-cs294/venv/lib/python3.5/site-packages/IPython/core/interactiveshell.py\", line 2862, in run_code\\n    exec(code_obj, self.user_global_ns, self.user_ns)', 'File \"<ipython-input-32-3a93bc9eea49>\", line 18, in <module>\\n    action = pred_action(fp, obs[None,:])', 'File \"<ipython-input-32-3a93bc9eea49>\", line 6, in pred_action\\n    shuffle=False)))', 'File \"/Users/zyxue/Projects/sutton-barto-rl-exercises/berkeley-cs294/venv/lib/python3.5/site-packages/tensorflow/python/estimator/estimator.py\", line 347, in predict\\n    hooks=hooks) as mon_sess:', 'File \"/Users/zyxue/Projects/sutton-barto-rl-exercises/berkeley-cs294/venv/lib/python3.5/site-packages/tensorflow/python/training/monitored_session.py\", line 668, in __init__\\n    stop_grace_period_secs=stop_grace_period_secs)', 'File \"/Users/zyxue/Projects/sutton-barto-rl-exercises/berkeley-cs294/venv/lib/python3.5/site-packages/tensorflow/python/training/monitored_session.py\", line 490, in __init__\\n    self._sess = _RecoverableSession(self._coordinated_creator)', 'File \"/Users/zyxue/Projects/sutton-barto-rl-exercises/berkeley-cs294/venv/lib/python3.5/site-packages/tensorflow/python/training/monitored_session.py\", line 842, in __init__\\n    _WrappedSession.__init__(self, self._create_session())', 'File \"/Users/zyxue/Projects/sutton-barto-rl-exercises/berkeley-cs294/venv/lib/python3.5/site-packages/tensorflow/python/training/monitored_session.py\", line 847, in _create_session\\n    return self._sess_creator.create_session()', 'File \"/Users/zyxue/Projects/sutton-barto-rl-exercises/berkeley-cs294/venv/lib/python3.5/site-packages/tensorflow/python/training/monitored_session.py\", line 551, in create_session\\n    self.tf_sess = self._session_creator.create_session()', 'File \"/Users/zyxue/Projects/sutton-barto-rl-exercises/berkeley-cs294/venv/lib/python3.5/site-packages/tensorflow/python/training/monitored_session.py\", line 416, in create_session\\n    self._scaffold.finalize()', 'File \"/Users/zyxue/Projects/sutton-barto-rl-exercises/berkeley-cs294/venv/lib/python3.5/site-packages/tensorflow/python/training/monitored_session.py\", line 196, in finalize\\n    default_ready_for_local_init_op)', 'File \"/Users/zyxue/Projects/sutton-barto-rl-exercises/berkeley-cs294/venv/lib/python3.5/site-packages/tensorflow/python/training/monitored_session.py\", line 258, in get_or_default\\n    op = default_constructor()', 'File \"/Users/zyxue/Projects/sutton-barto-rl-exercises/berkeley-cs294/venv/lib/python3.5/site-packages/tensorflow/python/training/monitored_session.py\", line 193, in default_ready_for_local_init_op\\n    variables.global_variables())', 'File \"/Users/zyxue/Projects/sutton-barto-rl-exercises/berkeley-cs294/venv/lib/python3.5/site-packages/tensorflow/python/util/tf_should_use.py\", line 175, in wrapped\\n    return _add_should_use_warning(fn(*args, **kwargs))', 'File \"/Users/zyxue/Projects/sutton-barto-rl-exercises/berkeley-cs294/venv/lib/python3.5/site-packages/tensorflow/python/util/tf_should_use.py\", line 144, in _add_should_use_warning\\n    wrapped = TFShouldUseWarningWrapper(x)', 'File \"/Users/zyxue/Projects/sutton-barto-rl-exercises/berkeley-cs294/venv/lib/python3.5/site-packages/tensorflow/python/util/tf_should_use.py\", line 101, in __init__\\n    stack = [s.strip() for s in traceback.format_stack()]']\n",
      "==================================\n",
      "INFO:tensorflow:Restoring parameters from /var/folders/79/dh9kb7m51m10qqhwqh4hg9pm0000gn/T/tmp27hoxf2g/model.ckpt-626\n",
      "INFO:tensorflow:Restoring parameters from /var/folders/79/dh9kb7m51m10qqhwqh4hg9pm0000gn/T/tmp27hoxf2g/model.ckpt-626\n",
      "INFO:tensorflow:Restoring parameters from /var/folders/79/dh9kb7m51m10qqhwqh4hg9pm0000gn/T/tmp27hoxf2g/model.ckpt-626\n",
      "INFO:tensorflow:Restoring parameters from /var/folders/79/dh9kb7m51m10qqhwqh4hg9pm0000gn/T/tmp27hoxf2g/model.ckpt-626\n",
      "INFO:tensorflow:Restoring parameters from /var/folders/79/dh9kb7m51m10qqhwqh4hg9pm0000gn/T/tmp27hoxf2g/model.ckpt-626\n",
      "INFO:tensorflow:Restoring parameters from /var/folders/79/dh9kb7m51m10qqhwqh4hg9pm0000gn/T/tmp27hoxf2g/model.ckpt-626\n",
      "INFO:tensorflow:Restoring parameters from /var/folders/79/dh9kb7m51m10qqhwqh4hg9pm0000gn/T/tmp27hoxf2g/model.ckpt-626\n"
     ]
    },
    {
     "name": "stdout",
     "output_type": "stream",
     "text": [
      "INFO:tensorflow:Restoring parameters from /var/folders/79/dh9kb7m51m10qqhwqh4hg9pm0000gn/T/tmp27hoxf2g/model.ckpt-626\n",
      "INFO:tensorflow:Restoring parameters from /var/folders/79/dh9kb7m51m10qqhwqh4hg9pm0000gn/T/tmp27hoxf2g/model.ckpt-626\n",
      "INFO:tensorflow:Restoring parameters from /var/folders/79/dh9kb7m51m10qqhwqh4hg9pm0000gn/T/tmp27hoxf2g/model.ckpt-626\n",
      "INFO:tensorflow:Restoring parameters from /var/folders/79/dh9kb7m51m10qqhwqh4hg9pm0000gn/T/tmp27hoxf2g/model.ckpt-626\n",
      "INFO:tensorflow:Restoring parameters from /var/folders/79/dh9kb7m51m10qqhwqh4hg9pm0000gn/T/tmp27hoxf2g/model.ckpt-626\n",
      "INFO:tensorflow:Restoring parameters from /var/folders/79/dh9kb7m51m10qqhwqh4hg9pm0000gn/T/tmp27hoxf2g/model.ckpt-626\n",
      "INFO:tensorflow:Restoring parameters from /var/folders/79/dh9kb7m51m10qqhwqh4hg9pm0000gn/T/tmp27hoxf2g/model.ckpt-626\n",
      "INFO:tensorflow:Restoring parameters from /var/folders/79/dh9kb7m51m10qqhwqh4hg9pm0000gn/T/tmp27hoxf2g/model.ckpt-626\n",
      "INFO:tensorflow:Restoring parameters from /var/folders/79/dh9kb7m51m10qqhwqh4hg9pm0000gn/T/tmp27hoxf2g/model.ckpt-626\n",
      "INFO:tensorflow:Restoring parameters from /var/folders/79/dh9kb7m51m10qqhwqh4hg9pm0000gn/T/tmp27hoxf2g/model.ckpt-626\n",
      "INFO:tensorflow:Restoring parameters from /var/folders/79/dh9kb7m51m10qqhwqh4hg9pm0000gn/T/tmp27hoxf2g/model.ckpt-626\n",
      "INFO:tensorflow:Restoring parameters from /var/folders/79/dh9kb7m51m10qqhwqh4hg9pm0000gn/T/tmp27hoxf2g/model.ckpt-626\n",
      "20,INFO:tensorflow:Restoring parameters from /var/folders/79/dh9kb7m51m10qqhwqh4hg9pm0000gn/T/tmp27hoxf2g/model.ckpt-626\n",
      "INFO:tensorflow:Restoring parameters from /var/folders/79/dh9kb7m51m10qqhwqh4hg9pm0000gn/T/tmp27hoxf2g/model.ckpt-626\n",
      "INFO:tensorflow:Restoring parameters from /var/folders/79/dh9kb7m51m10qqhwqh4hg9pm0000gn/T/tmp27hoxf2g/model.ckpt-626\n",
      "INFO:tensorflow:Restoring parameters from /var/folders/79/dh9kb7m51m10qqhwqh4hg9pm0000gn/T/tmp27hoxf2g/model.ckpt-626\n",
      "INFO:tensorflow:Restoring parameters from /var/folders/79/dh9kb7m51m10qqhwqh4hg9pm0000gn/T/tmp27hoxf2g/model.ckpt-626\n",
      "INFO:tensorflow:Restoring parameters from /var/folders/79/dh9kb7m51m10qqhwqh4hg9pm0000gn/T/tmp27hoxf2g/model.ckpt-626\n",
      "INFO:tensorflow:Restoring parameters from /var/folders/79/dh9kb7m51m10qqhwqh4hg9pm0000gn/T/tmp27hoxf2g/model.ckpt-626\n",
      "INFO:tensorflow:Restoring parameters from /var/folders/79/dh9kb7m51m10qqhwqh4hg9pm0000gn/T/tmp27hoxf2g/model.ckpt-626\n",
      "INFO:tensorflow:Restoring parameters from /var/folders/79/dh9kb7m51m10qqhwqh4hg9pm0000gn/T/tmp27hoxf2g/model.ckpt-626\n",
      "INFO:tensorflow:Restoring parameters from /var/folders/79/dh9kb7m51m10qqhwqh4hg9pm0000gn/T/tmp27hoxf2g/model.ckpt-626\n",
      "INFO:tensorflow:Restoring parameters from /var/folders/79/dh9kb7m51m10qqhwqh4hg9pm0000gn/T/tmp27hoxf2g/model.ckpt-626\n",
      "INFO:tensorflow:Restoring parameters from /var/folders/79/dh9kb7m51m10qqhwqh4hg9pm0000gn/T/tmp27hoxf2g/model.ckpt-626\n",
      "INFO:tensorflow:Restoring parameters from /var/folders/79/dh9kb7m51m10qqhwqh4hg9pm0000gn/T/tmp27hoxf2g/model.ckpt-626\n",
      "INFO:tensorflow:Restoring parameters from /var/folders/79/dh9kb7m51m10qqhwqh4hg9pm0000gn/T/tmp27hoxf2g/model.ckpt-626\n",
      "INFO:tensorflow:Restoring parameters from /var/folders/79/dh9kb7m51m10qqhwqh4hg9pm0000gn/T/tmp27hoxf2g/model.ckpt-626\n",
      "INFO:tensorflow:Restoring parameters from /var/folders/79/dh9kb7m51m10qqhwqh4hg9pm0000gn/T/tmp27hoxf2g/model.ckpt-626\n",
      "INFO:tensorflow:Restoring parameters from /var/folders/79/dh9kb7m51m10qqhwqh4hg9pm0000gn/T/tmp27hoxf2g/model.ckpt-626\n",
      "INFO:tensorflow:Restoring parameters from /var/folders/79/dh9kb7m51m10qqhwqh4hg9pm0000gn/T/tmp27hoxf2g/model.ckpt-626\n",
      "INFO:tensorflow:Restoring parameters from /var/folders/79/dh9kb7m51m10qqhwqh4hg9pm0000gn/T/tmp27hoxf2g/model.ckpt-626\n",
      "INFO:tensorflow:Restoring parameters from /var/folders/79/dh9kb7m51m10qqhwqh4hg9pm0000gn/T/tmp27hoxf2g/model.ckpt-626\n",
      "40,INFO:tensorflow:Restoring parameters from /var/folders/79/dh9kb7m51m10qqhwqh4hg9pm0000gn/T/tmp27hoxf2g/model.ckpt-626\n",
      "INFO:tensorflow:Restoring parameters from /var/folders/79/dh9kb7m51m10qqhwqh4hg9pm0000gn/T/tmp27hoxf2g/model.ckpt-626\n",
      "INFO:tensorflow:Restoring parameters from /var/folders/79/dh9kb7m51m10qqhwqh4hg9pm0000gn/T/tmp27hoxf2g/model.ckpt-626\n",
      "INFO:tensorflow:Restoring parameters from /var/folders/79/dh9kb7m51m10qqhwqh4hg9pm0000gn/T/tmp27hoxf2g/model.ckpt-626\n",
      "INFO:tensorflow:Restoring parameters from /var/folders/79/dh9kb7m51m10qqhwqh4hg9pm0000gn/T/tmp27hoxf2g/model.ckpt-626\n",
      "INFO:tensorflow:Restoring parameters from /var/folders/79/dh9kb7m51m10qqhwqh4hg9pm0000gn/T/tmp27hoxf2g/model.ckpt-626\n",
      "INFO:tensorflow:Restoring parameters from /var/folders/79/dh9kb7m51m10qqhwqh4hg9pm0000gn/T/tmp27hoxf2g/model.ckpt-626\n",
      "INFO:tensorflow:Restoring parameters from /var/folders/79/dh9kb7m51m10qqhwqh4hg9pm0000gn/T/tmp27hoxf2g/model.ckpt-626\n",
      "INFO:tensorflow:Restoring parameters from /var/folders/79/dh9kb7m51m10qqhwqh4hg9pm0000gn/T/tmp27hoxf2g/model.ckpt-626\n",
      "INFO:tensorflow:Restoring parameters from /var/folders/79/dh9kb7m51m10qqhwqh4hg9pm0000gn/T/tmp27hoxf2g/model.ckpt-626\n",
      "INFO:tensorflow:Restoring parameters from /var/folders/79/dh9kb7m51m10qqhwqh4hg9pm0000gn/T/tmp27hoxf2g/model.ckpt-626\n",
      "INFO:tensorflow:Restoring parameters from /var/folders/79/dh9kb7m51m10qqhwqh4hg9pm0000gn/T/tmp27hoxf2g/model.ckpt-626\n",
      "INFO:tensorflow:Restoring parameters from /var/folders/79/dh9kb7m51m10qqhwqh4hg9pm0000gn/T/tmp27hoxf2g/model.ckpt-626\n"
     ]
    },
    {
     "ename": "KeyboardInterrupt",
     "evalue": "",
     "output_type": "error",
     "traceback": [
      "\u001b[0;31m---------------------------------------------------------------------------\u001b[0m",
      "\u001b[0;31mKeyboardInterrupt\u001b[0m                         Traceback (most recent call last)",
      "\u001b[0;32m<ipython-input-42-0297373b2894>\u001b[0m in \u001b[0;36m<module>\u001b[0;34m()\u001b[0m\n\u001b[1;32m     16\u001b[0m     \u001b[0;32mif\u001b[0m \u001b[0;34m(\u001b[0m\u001b[0mk\u001b[0m \u001b[0;34m+\u001b[0m \u001b[0;36m1\u001b[0m\u001b[0;34m)\u001b[0m \u001b[0;34m%\u001b[0m \u001b[0;36m20\u001b[0m \u001b[0;34m==\u001b[0m \u001b[0;36m0\u001b[0m\u001b[0;34m:\u001b[0m\u001b[0;34m\u001b[0m\u001b[0m\n\u001b[1;32m     17\u001b[0m         \u001b[0mprint\u001b[0m\u001b[0;34m(\u001b[0m\u001b[0mk\u001b[0m \u001b[0;34m+\u001b[0m \u001b[0;36m1\u001b[0m\u001b[0;34m,\u001b[0m \u001b[0mend\u001b[0m\u001b[0;34m=\u001b[0m\u001b[0;34m','\u001b[0m\u001b[0;34m)\u001b[0m\u001b[0;34m\u001b[0m\u001b[0m\n\u001b[0;32m---> 18\u001b[0;31m     \u001b[0maction\u001b[0m \u001b[0;34m=\u001b[0m \u001b[0mpred_action\u001b[0m\u001b[0;34m(\u001b[0m\u001b[0mregressor\u001b[0m\u001b[0;34m,\u001b[0m \u001b[0mobs\u001b[0m\u001b[0;34m[\u001b[0m\u001b[0;32mNone\u001b[0m\u001b[0;34m,\u001b[0m\u001b[0;34m:\u001b[0m\u001b[0;34m]\u001b[0m\u001b[0;34m)\u001b[0m\u001b[0;34m\u001b[0m\u001b[0m\n\u001b[0m\u001b[1;32m     19\u001b[0m     \u001b[0mobs\u001b[0m\u001b[0;34m,\u001b[0m \u001b[0mr\u001b[0m\u001b[0;34m,\u001b[0m \u001b[0mdone\u001b[0m\u001b[0;34m,\u001b[0m \u001b[0m_\u001b[0m \u001b[0;34m=\u001b[0m \u001b[0menv\u001b[0m\u001b[0;34m.\u001b[0m\u001b[0mstep\u001b[0m\u001b[0;34m(\u001b[0m\u001b[0maction\u001b[0m\u001b[0;34m)\u001b[0m\u001b[0;34m\u001b[0m\u001b[0m\n\u001b[1;32m     20\u001b[0m     \u001b[0mtotalr\u001b[0m \u001b[0;34m+=\u001b[0m \u001b[0mr\u001b[0m\u001b[0;34m\u001b[0m\u001b[0m\n",
      "\u001b[0;32m<ipython-input-42-0297373b2894>\u001b[0m in \u001b[0;36mpred_action\u001b[0;34m(model, obs)\u001b[0m\n\u001b[1;32m      4\u001b[0m             tf.estimator.inputs.numpy_input_fn(\n\u001b[1;32m      5\u001b[0m                 \u001b[0mx\u001b[0m\u001b[0;34m=\u001b[0m\u001b[0;34m{\u001b[0m\u001b[0;34m'x'\u001b[0m\u001b[0;34m:\u001b[0m \u001b[0mobs\u001b[0m\u001b[0;34m.\u001b[0m\u001b[0mreshape\u001b[0m\u001b[0;34m(\u001b[0m\u001b[0;36m1\u001b[0m\u001b[0;34m,\u001b[0m \u001b[0;34m-\u001b[0m\u001b[0;36m1\u001b[0m\u001b[0;34m)\u001b[0m\u001b[0;34m}\u001b[0m\u001b[0;34m,\u001b[0m\u001b[0;34m\u001b[0m\u001b[0m\n\u001b[0;32m----> 6\u001b[0;31m                 shuffle=False)))\n\u001b[0m\u001b[1;32m      7\u001b[0m     \u001b[0;32mreturn\u001b[0m \u001b[0mres\u001b[0m\u001b[0;34m[\u001b[0m\u001b[0;36m0\u001b[0m\u001b[0;34m]\u001b[0m\u001b[0;34m[\u001b[0m\u001b[0;34m'predictions'\u001b[0m\u001b[0;34m]\u001b[0m\u001b[0;34m\u001b[0m\u001b[0m\n\u001b[1;32m      8\u001b[0m \u001b[0;34m\u001b[0m\u001b[0m\n",
      "\u001b[0;32m~/Projects/sutton-barto-rl-exercises/berkeley-cs294/venv/lib/python3.5/site-packages/tensorflow/python/estimator/estimator.py\u001b[0m in \u001b[0;36mpredict\u001b[0;34m(self, input_fn, predict_keys, hooks, checkpoint_path)\u001b[0m\n\u001b[1;32m    338\u001b[0m           input_fn, model_fn_lib.ModeKeys.PREDICT)\n\u001b[1;32m    339\u001b[0m       estimator_spec = self._call_model_fn(features, None,\n\u001b[0;32m--> 340\u001b[0;31m                                            model_fn_lib.ModeKeys.PREDICT)\n\u001b[0m\u001b[1;32m    341\u001b[0m       \u001b[0mpredictions\u001b[0m \u001b[0;34m=\u001b[0m \u001b[0mself\u001b[0m\u001b[0;34m.\u001b[0m\u001b[0m_extract_keys\u001b[0m\u001b[0;34m(\u001b[0m\u001b[0mestimator_spec\u001b[0m\u001b[0;34m.\u001b[0m\u001b[0mpredictions\u001b[0m\u001b[0;34m,\u001b[0m \u001b[0mpredict_keys\u001b[0m\u001b[0;34m)\u001b[0m\u001b[0;34m\u001b[0m\u001b[0m\n\u001b[1;32m    342\u001b[0m       with training.MonitoredSession(\n",
      "\u001b[0;32m~/Projects/sutton-barto-rl-exercises/berkeley-cs294/venv/lib/python3.5/site-packages/tensorflow/python/estimator/estimator.py\u001b[0m in \u001b[0;36m_call_model_fn\u001b[0;34m(self, features, labels, mode)\u001b[0m\n\u001b[1;32m    613\u001b[0m     \u001b[0;32mif\u001b[0m \u001b[0;34m'config'\u001b[0m \u001b[0;32min\u001b[0m \u001b[0mmodel_fn_args\u001b[0m\u001b[0;34m:\u001b[0m\u001b[0;34m\u001b[0m\u001b[0m\n\u001b[1;32m    614\u001b[0m       \u001b[0mkwargs\u001b[0m\u001b[0;34m[\u001b[0m\u001b[0;34m'config'\u001b[0m\u001b[0;34m]\u001b[0m \u001b[0;34m=\u001b[0m \u001b[0mself\u001b[0m\u001b[0;34m.\u001b[0m\u001b[0mconfig\u001b[0m\u001b[0;34m\u001b[0m\u001b[0m\n\u001b[0;32m--> 615\u001b[0;31m     \u001b[0mmodel_fn_results\u001b[0m \u001b[0;34m=\u001b[0m \u001b[0mself\u001b[0m\u001b[0;34m.\u001b[0m\u001b[0m_model_fn\u001b[0m\u001b[0;34m(\u001b[0m\u001b[0mfeatures\u001b[0m\u001b[0;34m=\u001b[0m\u001b[0mfeatures\u001b[0m\u001b[0;34m,\u001b[0m \u001b[0;34m**\u001b[0m\u001b[0mkwargs\u001b[0m\u001b[0;34m)\u001b[0m\u001b[0;34m\u001b[0m\u001b[0m\n\u001b[0m\u001b[1;32m    616\u001b[0m \u001b[0;34m\u001b[0m\u001b[0m\n\u001b[1;32m    617\u001b[0m     \u001b[0;32mif\u001b[0m \u001b[0;32mnot\u001b[0m \u001b[0misinstance\u001b[0m\u001b[0;34m(\u001b[0m\u001b[0mmodel_fn_results\u001b[0m\u001b[0;34m,\u001b[0m \u001b[0mmodel_fn_lib\u001b[0m\u001b[0;34m.\u001b[0m\u001b[0mEstimatorSpec\u001b[0m\u001b[0;34m)\u001b[0m\u001b[0;34m:\u001b[0m\u001b[0;34m\u001b[0m\u001b[0m\n",
      "\u001b[0;32m~/Projects/sutton-barto-rl-exercises/berkeley-cs294/venv/lib/python3.5/site-packages/tensorflow/python/estimator/canned/dnn.py\u001b[0m in \u001b[0;36m_model_fn\u001b[0;34m(features, labels, mode, config)\u001b[0m\n\u001b[1;32m    389\u001b[0m           \u001b[0mdropout\u001b[0m\u001b[0;34m=\u001b[0m\u001b[0mdropout\u001b[0m\u001b[0;34m,\u001b[0m\u001b[0;34m\u001b[0m\u001b[0m\n\u001b[1;32m    390\u001b[0m           \u001b[0minput_layer_partitioner\u001b[0m\u001b[0;34m=\u001b[0m\u001b[0minput_layer_partitioner\u001b[0m\u001b[0;34m,\u001b[0m\u001b[0;34m\u001b[0m\u001b[0m\n\u001b[0;32m--> 391\u001b[0;31m           config=config)\n\u001b[0m\u001b[1;32m    392\u001b[0m     super(DNNRegressor, self).__init__(\n\u001b[1;32m    393\u001b[0m         model_fn=_model_fn, model_dir=model_dir, config=config)\n",
      "\u001b[0;32m~/Projects/sutton-barto-rl-exercises/berkeley-cs294/venv/lib/python3.5/site-packages/tensorflow/python/estimator/canned/dnn.py\u001b[0m in \u001b[0;36m_dnn_model_fn\u001b[0;34m(features, labels, mode, head, hidden_units, feature_columns, optimizer, activation_fn, dropout, input_layer_partitioner, config)\u001b[0m\n\u001b[1;32m    100\u001b[0m       net = feature_column_lib.input_layer(\n\u001b[1;32m    101\u001b[0m           \u001b[0mfeatures\u001b[0m\u001b[0;34m=\u001b[0m\u001b[0mfeatures\u001b[0m\u001b[0;34m,\u001b[0m\u001b[0;34m\u001b[0m\u001b[0m\n\u001b[0;32m--> 102\u001b[0;31m           feature_columns=feature_columns)\n\u001b[0m\u001b[1;32m    103\u001b[0m \u001b[0;34m\u001b[0m\u001b[0m\n\u001b[1;32m    104\u001b[0m     \u001b[0;32mfor\u001b[0m \u001b[0mlayer_id\u001b[0m\u001b[0;34m,\u001b[0m \u001b[0mnum_hidden_units\u001b[0m \u001b[0;32min\u001b[0m \u001b[0menumerate\u001b[0m\u001b[0;34m(\u001b[0m\u001b[0mhidden_units\u001b[0m\u001b[0;34m)\u001b[0m\u001b[0;34m:\u001b[0m\u001b[0;34m\u001b[0m\u001b[0m\n",
      "\u001b[0;32m~/Projects/sutton-barto-rl-exercises/berkeley-cs294/venv/lib/python3.5/site-packages/tensorflow/python/feature_column/feature_column.py\u001b[0m in \u001b[0;36minput_layer\u001b[0;34m(features, feature_columns, weight_collections, trainable)\u001b[0m\n\u001b[1;32m    231\u001b[0m         \u001b[0mnum_elements\u001b[0m \u001b[0;34m=\u001b[0m \u001b[0mcolumn\u001b[0m\u001b[0;34m.\u001b[0m\u001b[0m_variable_shape\u001b[0m\u001b[0;34m.\u001b[0m\u001b[0mnum_elements\u001b[0m\u001b[0;34m(\u001b[0m\u001b[0;34m)\u001b[0m  \u001b[0;31m# pylint: disable=protected-access\u001b[0m\u001b[0;34m\u001b[0m\u001b[0m\n\u001b[1;32m    232\u001b[0m         \u001b[0mbatch_size\u001b[0m \u001b[0;34m=\u001b[0m \u001b[0marray_ops\u001b[0m\u001b[0;34m.\u001b[0m\u001b[0mshape\u001b[0m\u001b[0;34m(\u001b[0m\u001b[0mtensor\u001b[0m\u001b[0;34m)\u001b[0m\u001b[0;34m[\u001b[0m\u001b[0;36m0\u001b[0m\u001b[0;34m]\u001b[0m\u001b[0;34m\u001b[0m\u001b[0m\n\u001b[0;32m--> 233\u001b[0;31m         \u001b[0mtensor\u001b[0m \u001b[0;34m=\u001b[0m \u001b[0marray_ops\u001b[0m\u001b[0;34m.\u001b[0m\u001b[0mreshape\u001b[0m\u001b[0;34m(\u001b[0m\u001b[0mtensor\u001b[0m\u001b[0;34m,\u001b[0m \u001b[0mshape\u001b[0m\u001b[0;34m=\u001b[0m\u001b[0;34m(\u001b[0m\u001b[0mbatch_size\u001b[0m\u001b[0;34m,\u001b[0m \u001b[0mnum_elements\u001b[0m\u001b[0;34m)\u001b[0m\u001b[0;34m)\u001b[0m\u001b[0;34m\u001b[0m\u001b[0m\n\u001b[0m\u001b[1;32m    234\u001b[0m         \u001b[0moutput_tensors\u001b[0m\u001b[0;34m.\u001b[0m\u001b[0mappend\u001b[0m\u001b[0;34m(\u001b[0m\u001b[0mtensor\u001b[0m\u001b[0;34m)\u001b[0m\u001b[0;34m\u001b[0m\u001b[0m\n\u001b[1;32m    235\u001b[0m     \u001b[0m_verify_static_batch_size_equality\u001b[0m\u001b[0;34m(\u001b[0m\u001b[0moutput_tensors\u001b[0m\u001b[0;34m,\u001b[0m \u001b[0mordered_columns\u001b[0m\u001b[0;34m)\u001b[0m\u001b[0;34m\u001b[0m\u001b[0m\n",
      "\u001b[0;32m~/Projects/sutton-barto-rl-exercises/berkeley-cs294/venv/lib/python3.5/site-packages/tensorflow/python/ops/gen_array_ops.py\u001b[0m in \u001b[0;36mreshape\u001b[0;34m(tensor, shape, name)\u001b[0m\n\u001b[1;32m   2617\u001b[0m   \"\"\"\n\u001b[1;32m   2618\u001b[0m   result = _op_def_lib.apply_op(\"Reshape\", tensor=tensor, shape=shape,\n\u001b[0;32m-> 2619\u001b[0;31m                                 name=name)\n\u001b[0m\u001b[1;32m   2620\u001b[0m   \u001b[0;32mreturn\u001b[0m \u001b[0mresult\u001b[0m\u001b[0;34m\u001b[0m\u001b[0m\n\u001b[1;32m   2621\u001b[0m \u001b[0;34m\u001b[0m\u001b[0m\n",
      "\u001b[0;32m~/Projects/sutton-barto-rl-exercises/berkeley-cs294/venv/lib/python3.5/site-packages/tensorflow/python/framework/op_def_library.py\u001b[0m in \u001b[0;36mapply_op\u001b[0;34m(self, op_type_name, name, **keywords)\u001b[0m\n\u001b[1;32m    765\u001b[0m         op = g.create_op(op_type_name, inputs, output_types, name=scope,\n\u001b[1;32m    766\u001b[0m                          \u001b[0minput_types\u001b[0m\u001b[0;34m=\u001b[0m\u001b[0minput_types\u001b[0m\u001b[0;34m,\u001b[0m \u001b[0mattrs\u001b[0m\u001b[0;34m=\u001b[0m\u001b[0mattr_protos\u001b[0m\u001b[0;34m,\u001b[0m\u001b[0;34m\u001b[0m\u001b[0m\n\u001b[0;32m--> 767\u001b[0;31m                          op_def=op_def)\n\u001b[0m\u001b[1;32m    768\u001b[0m         \u001b[0;32mif\u001b[0m \u001b[0moutput_structure\u001b[0m\u001b[0;34m:\u001b[0m\u001b[0;34m\u001b[0m\u001b[0m\n\u001b[1;32m    769\u001b[0m           \u001b[0moutputs\u001b[0m \u001b[0;34m=\u001b[0m \u001b[0mop\u001b[0m\u001b[0;34m.\u001b[0m\u001b[0moutputs\u001b[0m\u001b[0;34m\u001b[0m\u001b[0m\n",
      "\u001b[0;32m~/Projects/sutton-barto-rl-exercises/berkeley-cs294/venv/lib/python3.5/site-packages/tensorflow/python/framework/ops.py\u001b[0m in \u001b[0;36mcreate_op\u001b[0;34m(self, op_type, inputs, dtypes, input_types, name, attrs, op_def, compute_shapes, compute_device)\u001b[0m\n\u001b[1;32m   2630\u001b[0m                     original_op=self._default_original_op, op_def=op_def)\n\u001b[1;32m   2631\u001b[0m     \u001b[0;32mif\u001b[0m \u001b[0mcompute_shapes\u001b[0m\u001b[0;34m:\u001b[0m\u001b[0;34m\u001b[0m\u001b[0m\n\u001b[0;32m-> 2632\u001b[0;31m       \u001b[0mset_shapes_for_outputs\u001b[0m\u001b[0;34m(\u001b[0m\u001b[0mret\u001b[0m\u001b[0;34m)\u001b[0m\u001b[0;34m\u001b[0m\u001b[0m\n\u001b[0m\u001b[1;32m   2633\u001b[0m     \u001b[0mself\u001b[0m\u001b[0;34m.\u001b[0m\u001b[0m_add_op\u001b[0m\u001b[0;34m(\u001b[0m\u001b[0mret\u001b[0m\u001b[0;34m)\u001b[0m\u001b[0;34m\u001b[0m\u001b[0m\n\u001b[1;32m   2634\u001b[0m     \u001b[0mself\u001b[0m\u001b[0;34m.\u001b[0m\u001b[0m_record_op_seen_by_control_dependencies\u001b[0m\u001b[0;34m(\u001b[0m\u001b[0mret\u001b[0m\u001b[0;34m)\u001b[0m\u001b[0;34m\u001b[0m\u001b[0m\n",
      "\u001b[0;32m~/Projects/sutton-barto-rl-exercises/berkeley-cs294/venv/lib/python3.5/site-packages/tensorflow/python/framework/ops.py\u001b[0m in \u001b[0;36mset_shapes_for_outputs\u001b[0;34m(op)\u001b[0m\n\u001b[1;32m   1909\u001b[0m       \u001b[0mshape_func\u001b[0m \u001b[0;34m=\u001b[0m \u001b[0m_call_cpp_shape_fn_and_require_op\u001b[0m\u001b[0;34m\u001b[0m\u001b[0m\n\u001b[1;32m   1910\u001b[0m \u001b[0;34m\u001b[0m\u001b[0m\n\u001b[0;32m-> 1911\u001b[0;31m   \u001b[0mshapes\u001b[0m \u001b[0;34m=\u001b[0m \u001b[0mshape_func\u001b[0m\u001b[0;34m(\u001b[0m\u001b[0mop\u001b[0m\u001b[0;34m)\u001b[0m\u001b[0;34m\u001b[0m\u001b[0m\n\u001b[0m\u001b[1;32m   1912\u001b[0m   \u001b[0;32mif\u001b[0m \u001b[0mshapes\u001b[0m \u001b[0;32mis\u001b[0m \u001b[0;32mNone\u001b[0m\u001b[0;34m:\u001b[0m\u001b[0;34m\u001b[0m\u001b[0m\n\u001b[1;32m   1913\u001b[0m     raise RuntimeError(\n",
      "\u001b[0;32m~/Projects/sutton-barto-rl-exercises/berkeley-cs294/venv/lib/python3.5/site-packages/tensorflow/python/framework/ops.py\u001b[0m in \u001b[0;36mcall_with_requiring\u001b[0;34m(op)\u001b[0m\n\u001b[1;32m   1859\u001b[0m \u001b[0;34m\u001b[0m\u001b[0m\n\u001b[1;32m   1860\u001b[0m   \u001b[0;32mdef\u001b[0m \u001b[0mcall_with_requiring\u001b[0m\u001b[0;34m(\u001b[0m\u001b[0mop\u001b[0m\u001b[0;34m)\u001b[0m\u001b[0;34m:\u001b[0m\u001b[0;34m\u001b[0m\u001b[0m\n\u001b[0;32m-> 1861\u001b[0;31m     \u001b[0;32mreturn\u001b[0m \u001b[0mcall_cpp_shape_fn\u001b[0m\u001b[0;34m(\u001b[0m\u001b[0mop\u001b[0m\u001b[0;34m,\u001b[0m \u001b[0mrequire_shape_fn\u001b[0m\u001b[0;34m=\u001b[0m\u001b[0;32mTrue\u001b[0m\u001b[0;34m)\u001b[0m\u001b[0;34m\u001b[0m\u001b[0m\n\u001b[0m\u001b[1;32m   1862\u001b[0m \u001b[0;34m\u001b[0m\u001b[0m\n\u001b[1;32m   1863\u001b[0m   \u001b[0m_call_cpp_shape_fn_and_require_op\u001b[0m \u001b[0;34m=\u001b[0m \u001b[0mcall_with_requiring\u001b[0m\u001b[0;34m\u001b[0m\u001b[0m\n",
      "\u001b[0;32m~/Projects/sutton-barto-rl-exercises/berkeley-cs294/venv/lib/python3.5/site-packages/tensorflow/python/framework/common_shapes.py\u001b[0m in \u001b[0;36mcall_cpp_shape_fn\u001b[0;34m(op, require_shape_fn)\u001b[0m\n\u001b[1;32m    593\u001b[0m     res = _call_cpp_shape_fn_impl(op, input_tensors_needed,\n\u001b[1;32m    594\u001b[0m                                   \u001b[0minput_tensors_as_shapes_needed\u001b[0m\u001b[0;34m,\u001b[0m\u001b[0;34m\u001b[0m\u001b[0m\n\u001b[0;32m--> 595\u001b[0;31m                                   require_shape_fn)\n\u001b[0m\u001b[1;32m    596\u001b[0m     \u001b[0;32mif\u001b[0m \u001b[0;32mnot\u001b[0m \u001b[0misinstance\u001b[0m\u001b[0;34m(\u001b[0m\u001b[0mres\u001b[0m\u001b[0;34m,\u001b[0m \u001b[0mdict\u001b[0m\u001b[0;34m)\u001b[0m\u001b[0;34m:\u001b[0m\u001b[0;34m\u001b[0m\u001b[0m\n\u001b[1;32m    597\u001b[0m       \u001b[0;31m# Handles the case where _call_cpp_shape_fn_impl calls unknown_shape(op).\u001b[0m\u001b[0;34m\u001b[0m\u001b[0;34m\u001b[0m\u001b[0m\n",
      "\u001b[0;32m~/Projects/sutton-barto-rl-exercises/berkeley-cs294/venv/lib/python3.5/site-packages/tensorflow/python/framework/common_shapes.py\u001b[0m in \u001b[0;36m_call_cpp_shape_fn_impl\u001b[0;34m(op, input_tensors_needed, input_tensors_as_shapes_needed, require_shape_fn)\u001b[0m\n\u001b[1;32m    652\u001b[0m       output = pywrap_tensorflow.RunCppShapeInference(\n\u001b[1;32m    653\u001b[0m           \u001b[0mgraph_def_version\u001b[0m\u001b[0;34m,\u001b[0m \u001b[0mnode_def_str\u001b[0m\u001b[0;34m,\u001b[0m \u001b[0minput_shapes\u001b[0m\u001b[0;34m,\u001b[0m \u001b[0minput_tensors\u001b[0m\u001b[0;34m,\u001b[0m\u001b[0;34m\u001b[0m\u001b[0m\n\u001b[0;32m--> 654\u001b[0;31m           input_tensors_as_shapes, status)\n\u001b[0m\u001b[1;32m    655\u001b[0m   \u001b[0;32mexcept\u001b[0m \u001b[0merrors\u001b[0m\u001b[0;34m.\u001b[0m\u001b[0mInvalidArgumentError\u001b[0m \u001b[0;32mas\u001b[0m \u001b[0merr\u001b[0m\u001b[0;34m:\u001b[0m\u001b[0;34m\u001b[0m\u001b[0m\n\u001b[1;32m    656\u001b[0m     \u001b[0;32mif\u001b[0m \u001b[0merr\u001b[0m\u001b[0;34m.\u001b[0m\u001b[0mmessage\u001b[0m\u001b[0;34m.\u001b[0m\u001b[0mstartswith\u001b[0m\u001b[0;34m(\u001b[0m\u001b[0;34m\"No shape inference function exists for op\"\u001b[0m\u001b[0;34m)\u001b[0m\u001b[0;34m:\u001b[0m\u001b[0;34m\u001b[0m\u001b[0m\n",
      "\u001b[0;31mKeyboardInterrupt\u001b[0m: "
     ]
    }
   ],
   "source": [
    "def pred_action(model, obs):\n",
    "    res = list(\n",
    "        regressor.predict(\n",
    "            tf.estimator.inputs.numpy_input_fn(\n",
    "                x={'x': obs.reshape(1, -1)},\n",
    "                shuffle=False)))\n",
    "    return res[0]['predictions']\n",
    "\n",
    "env = gym.make('Ant-v1')\n",
    "\n",
    "obs = env.reset()\n",
    "totalr = 0\n",
    "done = False\n",
    "max_timesteps = 600\n",
    "for k in range(max_timesteps):\n",
    "    if (k + 1) % 20 == 0:\n",
    "        print(k + 1, end=',')\n",
    "    action = pred_action(regressor, obs[None,:])\n",
    "    obs, r, done, _ = env.step(action)\n",
    "    totalr += r\n",
    "    env.render()\n",
    "env.render(close=True)\n",
    "print()\n",
    "print(totalr)\n",
    "print(np.mean(totalr))"
   ]
  },
  {
   "cell_type": "markdown",
   "metadata": {},
   "source": [
    "Bummer, seems estimator restore parameters from the file system everytime a prediction is done, very slow!\n",
    "\n",
    "Seems estimator may not fit RL learning because RL is interactive. It's well fitted for predicting a batch of input features "
   ]
  },
  {
   "cell_type": "code",
   "execution_count": null,
   "metadata": {
    "collapsed": true
   },
   "outputs": [],
   "source": []
  }
 ],
 "metadata": {
  "kernelspec": {
   "display_name": "Python 3",
   "language": "python",
   "name": "python3"
  },
  "language_info": {
   "codemirror_mode": {
    "name": "ipython",
    "version": 3
   },
   "file_extension": ".py",
   "mimetype": "text/x-python",
   "name": "python",
   "nbconvert_exporter": "python",
   "pygments_lexer": "ipython3",
   "version": "3.5.4"
  }
 },
 "nbformat": 4,
 "nbformat_minor": 2
}
