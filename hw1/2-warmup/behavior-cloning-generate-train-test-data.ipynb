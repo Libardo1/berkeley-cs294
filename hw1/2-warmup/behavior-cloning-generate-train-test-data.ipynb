{
 "cells": [
  {
   "cell_type": "code",
   "execution_count": 1,
   "metadata": {
    "collapsed": true
   },
   "outputs": [],
   "source": [
    "import sys\n",
    "sys.path.insert(0, '..')\n",
    "import pickle\n",
    "\n",
    "import numpy as np\n",
    "import matplotlib.pyplot as plt\n",
    "import tensorflow as tf\n",
    "\n",
    "import gym\n",
    "\n",
    "%matplotlib inline"
   ]
  },
  {
   "cell_type": "code",
   "execution_count": 2,
   "metadata": {},
   "outputs": [],
   "source": [
    "import tf_util\n",
    "import load_policy"
   ]
  },
  {
   "cell_type": "code",
   "execution_count": 3,
   "metadata": {},
   "outputs": [
    {
     "name": "stdout",
     "output_type": "stream",
     "text": [
      "obs (1, 11) (1, 11)\n"
     ]
    }
   ],
   "source": [
    "policy_fn = load_policy.load_policy('../experts/Hopper-v1.pkl')"
   ]
  },
  {
   "cell_type": "code",
   "execution_count": 4,
   "metadata": {
    "collapsed": true
   },
   "outputs": [],
   "source": [
    "sess = tf.InteractiveSession()"
   ]
  },
  {
   "cell_type": "markdown",
   "metadata": {},
   "source": [
    "### Generate training data"
   ]
  },
  {
   "cell_type": "code",
   "execution_count": 5,
   "metadata": {},
   "outputs": [
    {
     "name": "stdout",
     "output_type": "stream",
     "text": [
      "0,1,2,3,4,5,6,7,8,9,"
     ]
    }
   ],
   "source": [
    "num_rollouts = 10\n",
    "max_timesteps = 2000\n",
    "\n",
    "# Use the first 10000 (obs, action) pairs as training data\n",
    "env = gym.make('Hopper-v1')\n",
    "X_all, y_all = [], []\n",
    "\n",
    "for i in range(num_rollouts):\n",
    "    print(i, end=',')\n",
    "    obs = env.reset()\n",
    "    action = policy_fn(obs[None, :])\n",
    "    X_all.append(obs)\n",
    "    y_all.append(action)   \n",
    "    for j in range(max_timesteps):\n",
    "        obs, r, done, _ = env.step(action)\n",
    "        action = policy_fn(obs[None, :])\n",
    "        X_all.append(obs)\n",
    "        y_all.append(action)\n",
    "        \n",
    "X_all = np.array(X_all)\n",
    "# concat instead of array is necessary to keep array in the right shape\n",
    "y_all = np.concatenate(y_all)"
   ]
  },
  {
   "cell_type": "code",
   "execution_count": 6,
   "metadata": {},
   "outputs": [],
   "source": [
    "# split index\n",
    "idx = int(X_all.shape[0] * 4/5)\n",
    "\n",
    "X_tv = X_all[:idx, :]\n",
    "X_test = X_all[idx:, :]\n",
    "y_tv = y_all[:idx, :]\n",
    "y_test = y_all[idx:, :]"
   ]
  },
  {
   "cell_type": "code",
   "execution_count": 7,
   "metadata": {},
   "outputs": [
    {
     "name": "stdout",
     "output_type": "stream",
     "text": [
      "(16008, 11) (4002, 11) (16008, 3) (4002, 3)\n"
     ]
    }
   ],
   "source": [
    "print(X_tv.shape, X_test.shape, y_tv.shape, y_test.shape)"
   ]
  },
  {
   "cell_type": "code",
   "execution_count": 8,
   "metadata": {
    "collapsed": true
   },
   "outputs": [],
   "source": [
    "with open('train_test.pkl', 'wb') as opf:\n",
    "    pickle.dump([X_tv, y_tv, X_test, y_test], opf)"
   ]
  },
  {
   "cell_type": "code",
   "execution_count": null,
   "metadata": {
    "collapsed": true
   },
   "outputs": [],
   "source": []
  }
 ],
 "metadata": {
  "kernelspec": {
   "display_name": "Python 3",
   "language": "python",
   "name": "python3"
  },
  "language_info": {
   "codemirror_mode": {
    "name": "ipython",
    "version": 3
   },
   "file_extension": ".py",
   "mimetype": "text/x-python",
   "name": "python",
   "nbconvert_exporter": "python",
   "pygments_lexer": "ipython3",
   "version": "3.5.4"
  }
 },
 "nbformat": 4,
 "nbformat_minor": 2
}
