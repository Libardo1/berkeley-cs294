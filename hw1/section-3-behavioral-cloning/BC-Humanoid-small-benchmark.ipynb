{
 "cells": [
  {
   "cell_type": "code",
   "execution_count": 1,
   "metadata": {
    "collapsed": true
   },
   "outputs": [],
   "source": [
    "import pickle\n",
    "\n",
    "import numpy as np\n",
    "import matplotlib.pyplot as plt\n",
    "import tensorflow as tf\n",
    "\n",
    "import gym\n",
    "\n",
    "%matplotlib inline"
   ]
  },
  {
   "cell_type": "code",
   "execution_count": 2,
   "metadata": {},
   "outputs": [
    {
     "name": "stdout",
     "output_type": "stream",
     "text": [
      "(16008, 376) (4002, 376) (16008, 17) (4002, 17)\n"
     ]
    }
   ],
   "source": [
    "with open('./train_test_data/humanoid_train_test-small.pkl', 'rb') as inf:\n",
    "    X_tv, y_tv, X_test, y_test = pickle.load(inf)\n",
    "print(X_tv.shape, X_test.shape, y_tv.shape, y_test.shape)"
   ]
  },
  {
   "cell_type": "code",
   "execution_count": 3,
   "metadata": {
    "collapsed": true
   },
   "outputs": [],
   "source": [
    "def weight_variable(shape):\n",
    "    initial = tf.truncated_normal(shape, stddev=0.1)\n",
    "    return tf.Variable(initial)\n",
    "\n",
    "\n",
    "def bias_variable(shape):\n",
    "    initial = tf.constant(0.1, shape=shape)\n",
    "    return tf.Variable(initial)"
   ]
  },
  {
   "cell_type": "markdown",
   "metadata": {},
   "source": [
    "### Build a network"
   ]
  },
  {
   "cell_type": "markdown",
   "metadata": {},
   "source": [
    "* observation is an 11-dim array\n",
    "* action is a (1, 3) shaped array"
   ]
  },
  {
   "cell_type": "code",
   "execution_count": 4,
   "metadata": {
    "collapsed": true
   },
   "outputs": [],
   "source": [
    "# None: batch size could vary\n",
    "x_plh = tf.placeholder(tf.float32, shape=[None, X_tv.shape[1]])\n",
    "y_plh = tf.placeholder(tf.float32, shape=[None, y_tv.shape[1]])"
   ]
  },
  {
   "cell_type": "code",
   "execution_count": 5,
   "metadata": {
    "collapsed": true
   },
   "outputs": [],
   "source": [
    "hidden_lay_size = 15\n",
    "Wh_var = weight_variable([x_plh.shape.dims[1].value, hidden_lay_size])\n",
    "bh_var = bias_variable([hidden_lay_size])\n",
    "# hh = tf.nn.relu(tf.matmul(x_plh, Wh_var) + bh_var)\n",
    "hh = tf.nn.sigmoid(tf.matmul(x_plh, Wh_var) + bh_var)"
   ]
  },
  {
   "cell_type": "code",
   "execution_count": 6,
   "metadata": {
    "collapsed": true
   },
   "outputs": [],
   "source": [
    "W_var = weight_variable([hidden_lay_size, y_plh.shape.dims[1].value])\n",
    "b_var = bias_variable([y_plh.shape.dims[1].value])"
   ]
  },
  {
   "cell_type": "code",
   "execution_count": 7,
   "metadata": {
    "collapsed": true
   },
   "outputs": [],
   "source": [
    "y_pred = tf.matmul(hh, W_var) + b_var"
   ]
  },
  {
   "cell_type": "code",
   "execution_count": 8,
   "metadata": {
    "collapsed": true
   },
   "outputs": [],
   "source": [
    "with tf.name_scope('mse'):\n",
    "    mse = tf.losses.mean_squared_error(labels=y_plh, predictions=y_pred)\n",
    "    mse = tf.cast(mse, tf.float32)"
   ]
  },
  {
   "cell_type": "code",
   "execution_count": 9,
   "metadata": {
    "collapsed": true
   },
   "outputs": [],
   "source": [
    "with tf.name_scope('adam_optimizer'):\n",
    "    train_op = tf.train.AdamOptimizer(1e-4).minimize(mse)"
   ]
  },
  {
   "cell_type": "code",
   "execution_count": 10,
   "metadata": {},
   "outputs": [
    {
     "name": "stdout",
     "output_type": "stream",
     "text": [
      "0,1,2,3,4,5,6,7,8,9,\n",
      "0.623086 0.622847\n"
     ]
    },
    {
     "data": {
      "image/png": "[encoded data removed]",
      "text/plain": [
       "<matplotlib.figure.Figure at 0x10f89ee48>"
      ]
     },
     "metadata": {},
     "output_type": "display_data"
    }
   ],
   "source": [
    "sess = tf.InteractiveSession()\n",
    "\n",
    "sess.run(tf.global_variables_initializer())\n",
    "\n",
    "mse_tv, mse_test = [], []\n",
    "\n",
    "bs = 128      # batch size\n",
    "for k in range(10): # num. epochs\n",
    "    print(k, end=',')\n",
    "    for i in range(X_tv.shape[0] // bs):\n",
    "        _x = X_tv[i * bs : (i+1) * bs, :]\n",
    "        _y = y_tv[i * bs : (i+1) * bs, :]\n",
    "        train_op.run(feed_dict={x_plh: _x, y_plh: _y})\n",
    "\n",
    "        # this step of calculation is slow and won't scale\n",
    "        mse_tv.append(mse.eval(feed_dict={x_plh: X_tv, y_plh: y_tv}))\n",
    "        mse_test.append(mse.eval(feed_dict={x_plh: X_test, y_plh: y_test}))\n",
    "\n",
    "plt.plot(mse_tv, label='tv')\n",
    "plt.plot(mse_test, label='test')\n",
    "plt.legend()\n",
    "plt.xlabel('# iterations')\n",
    "plt.ylabel('MSE')\n",
    "plt.grid()\n",
    "\n",
    "print()\n",
    "print(mse_tv[-1], mse_test[-1])"
   ]
  },
  {
   "cell_type": "code",
   "execution_count": 11,
   "metadata": {
    "scrolled": true
   },
   "outputs": [
    {
     "data": {
      "text/plain": [
       "1250"
      ]
     },
     "execution_count": 11,
     "metadata": {},
     "output_type": "execute_result"
    }
   ],
   "source": [
    "len(mse_test)"
   ]
  },
  {
   "cell_type": "markdown",
   "metadata": {},
   "source": [
    "# Visualize performance"
   ]
  },
  {
   "cell_type": "code",
   "execution_count": 12,
   "metadata": {
    "collapsed": true
   },
   "outputs": [],
   "source": [
    "# saver = tf.train.Saver()\n",
    "\n",
    "# sess = tf.InteractiveSession()\n",
    "# saver.restore(sess, \"/tmp/model/model.ckpt\")"
   ]
  },
  {
   "cell_type": "code",
   "execution_count": 14,
   "metadata": {},
   "outputs": [
    {
     "name": "stdout",
     "output_type": "stream",
     "text": [
      "0,1,2,\n",
      "[2901.1512998677845, 2911.7216344824765, 2900.6944941324896]\n",
      "2904.52247616\n",
      "5.09398850111\n"
     ]
    }
   ],
   "source": [
    "def pred_action(obs):\n",
    "    return y_pred.eval(feed_dict={x_plh: obs.reshape(1, -1)})\n",
    "\n",
    "env = gym.make('Humanoid-v1')\n",
    "\n",
    "totalr_list = []\n",
    "max_timesteps = 600\n",
    "for _ in range(3):\n",
    "    print(_, end=',')\n",
    "    totalr = 0\n",
    "    obs = env.reset()\n",
    "    for k in range(max_timesteps):\n",
    "        action = pred_action(obs[None,:])\n",
    "        obs, r, done, _ = env.step(action)\n",
    "        totalr += r\n",
    "#         env.render()\n",
    "#     env.render(close=True)\n",
    "    totalr_list.append(totalr)\n",
    "print()\n",
    "print(totalr_list)\n",
    "print(np.mean(totalr_list))\n",
    "print(np.std(totalr_list))"
   ]
  },
  {
   "cell_type": "code",
   "execution_count": null,
   "metadata": {
    "collapsed": true
   },
   "outputs": [],
   "source": []
  }
 ],
 "metadata": {
  "kernelspec": {
   "display_name": "Python 3",
   "language": "python",
   "name": "python3"
  },
  "language_info": {
   "codemirror_mode": {
    "name": "ipython",
    "version": 3
   },
   "file_extension": ".py",
   "mimetype": "text/x-python",
   "name": "python",
   "nbconvert_exporter": "python",
   "pygments_lexer": "ipython3",
   "version": "3.5.4"
  }
 },
 "nbformat": 4,
 "nbformat_minor": 2
}
